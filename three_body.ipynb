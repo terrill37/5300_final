{
 "cells": [
  {
   "cell_type": "markdown",
   "metadata": {},
   "source": [
    "# Three Body\n",
    "Created by: Wesley Terrill\n",
    "Revised on: (04/25/2019)\n"
   ]
  },
  {
   "cell_type": "markdown",
   "metadata": {},
   "source": [
    "The potential of the n-body system changes with interactions between each mass. The potential between two of the bodies is:\n",
    "$U_{ij}(r) = -G \\frac{m_i m_j}{r_{ij}}$<br/>\n",
    "\n",
    "In cartesian coordinates, this becomes:<br/>\n",
    "\n",
    "$\n",
    "U_{ij} = -G \\frac{m_i m_j}{\\sqrt{(x_i-x_j)^2 + (y_i-y_j)^2}}\n",
    "$<br/>\n",
    "\n",
    "The three body system has three potentials that are summed together.<br/>\n",
    "\n",
    "$\n",
    "U_{12} = -G \\frac{m_1 m_2}{\\sqrt{(x_1-x_2)^2 + (y_1-y_2)^2}}\n",
    "\\\\\n",
    "U_{13} = -G \\frac{m_1 m_3}{\\sqrt{(x_1-x_3)^2 + (y_1-y_3)^2}}\n",
    "\\\\\n",
    "U_{23} = -G \\frac{m_2 m_3}{\\sqrt{(x_2-x_3)^2 + (y_2-y_3)^2}}\n",
    "$\n",
    "\n",
    "From the file orbits, the lagrange_finder class may be used."
   ]
  },
  {
   "cell_type": "code",
   "execution_count": 1,
   "metadata": {},
   "outputs": [],
   "source": [
    "%matplotlib inline"
   ]
  },
  {
   "cell_type": "code",
   "execution_count": 2,
   "metadata": {},
   "outputs": [],
   "source": [
    "import numpy as np\n",
    "import matplotlib.pyplot as plt\n",
    "from scipy.integrate import solve_ivp\n",
    "from scipy import linalg as LA \n",
    "\n",
    "from scipy.integrate import odeint\n",
    "\n",
    "from mpmath import *\n",
    "\n",
    "#import functions from sympy\n",
    "import sympy as sym\n",
    "from sympy import *\n",
    "#from sympy.mpmath import *\n",
    "\n",
    "#from sympy.functions.elementary.trigonometric import sin, cos\n",
    "from sympy.physics.vector import dynamicsymbols\n",
    "from sympy import diff, Symbol\n",
    "from sympy.printing.mathml import print_mathml\n",
    "from sympy.abc import t\n",
    "from sympy.utilities.lambdify import lambdify, implemented_function\n",
    "from sympy import Function\n",
    "\n",
    "from IPython.display import display, Math #for printing latex string\n",
    "\n",
    "from scipy.integrate import solve_ivp\n",
    "\n",
    "from matplotlib import animation, rc\n",
    "from IPython.display import HTML, Image\n",
    "from matplotlib import animation, rc\n",
    "\n"
   ]
  },
  {
   "cell_type": "code",
   "execution_count": 3,
   "metadata": {},
   "outputs": [],
   "source": [
    "class Lagrange_finder():\n",
    "    \"\"\"\n",
    "    Lagrange_finder class implements the parameters to solve \n",
    "    Lagrangian for motion of system of most systems\n",
    "    \n",
    "    Parameters\n",
    "    ----------\n",
    "    q(t) : dynamic symbol array\n",
    "        position of mass as a function of time in terms of angle\n",
    "        to be solved for\n",
    "        will be defined outside class\n",
    "        \n",
    "    q_dot(t) : dynamic symbol array\n",
    "        angular velocity of mass as a function of time\n",
    "        defined outside class\n",
    "        \n",
    "    p(t) : non-dynamic array\n",
    "        same as q\n",
    "        subs in for dynamic terms\n",
    "        \n",
    "    p_dot(t) : non-dynamic array\n",
    "        same as q_dot\n",
    "        subs in for dynamic terms\n",
    "        \n",
    "    p_ddot(t) : non-dynamic array\n",
    "        The acceleration components of q\n",
    "        subs in for dyamic terms\n",
    "    \n",
    "    Methods\n",
    "    -------\n",
    "    Lagrangian\n",
    "        creates lagrangian given kinetic energy and potential energy\n",
    "        in terms of q(t) and q_dot(t)\n",
    "        Returns the Lagrangian\n",
    "        \n",
    "    Lagrange\n",
    "        takes Lagrangian and uses to solve the Lagrange equations\n",
    "        Returns two lists of each half of differential equations\n",
    "    \"\"\"\n",
    "    \n",
    "    def __init__(self, q, q_dot, p, p_dot, p_ddot):\n",
    "        self.q = q\n",
    "        self.q_dot = q_dot\n",
    "        self.p = p\n",
    "        self.p_dot = p_dot\n",
    "        self.p_ddot = p_ddot\n",
    "        \n",
    "    def Lagrangian(self, U, T):\n",
    "        \"\"\"\n",
    "        Forms the Lagrangian of the pendulum system given Potential \n",
    "        and Kinetic energy of system\n",
    "        Solves Lagranges equations symbolically\n",
    "        Returns the Lagrange\n",
    "        \"\"\"\n",
    "        \n",
    "        self.Lagrangian = simplify(T - U)\n",
    "        \n",
    "        return self.Lagrangian\n",
    "    \n",
    "    def Lagrange(self):\n",
    "        \"\"\"\n",
    "        takes Lagrangian and uses to solve the Lagrange equations\n",
    "        Returns two lists of each half of differential equations\n",
    "        \"\"\"\n",
    "        # intialize list of ODE for each term\n",
    "        self.ODE = []\n",
    "        \n",
    "        # iterates for each angle variable\n",
    "        for i in range(0, len(self.q)):\n",
    "            #Derivative with respect to q\n",
    "            dL_dq = diff(self.Lagrangian, self.q[i])\n",
    "        \n",
    "            #Derivative with respect to q_dot\n",
    "            dL_dq_dot = simplify(diff(self.Lagrangian, self.q_dot[i]))\n",
    "        \n",
    "            #Time derivative\n",
    "            dL_dq_dot_dt = diff(dL_dq_dot, t)\n",
    "            \n",
    "            #assemble as function\n",
    "            lagrange = simplify(Eq(dL_dq,dL_dq_dot_dt))\n",
    "        \n",
    "            #loop substitutes variables earlier for ease of reading using vector U\n",
    "            for j in range(len(self.q)):\n",
    "                lagrange = lagrange.subs([(diff(self.q_dot[j],t), self.p_ddot[j]),\n",
    "                                          (self.q_dot[j], self.p_dot[j]), \n",
    "                                          (self.q[j],p[j])])\n",
    "            \n",
    "            diffeq = solve(lagrange, self.p_ddot[i])\n",
    "            #self.ODE.append([diff(diff(self.q[i],t),t), diffeq])\n",
    "            self.ODE.append(diffeq)\n",
    "    \n",
    "        return self.ODE\n"
   ]
  },
  {
   "cell_type": "markdown",
   "metadata": {},
   "source": [
    "The symbolic elements from orbits can also be reused with additional requirements of the third body added in"
   ]
  },
  {
   "cell_type": "code",
   "execution_count": 4,
   "metadata": {},
   "outputs": [],
   "source": [
    "### define dynamic symbols for cartesian coordinates ###\n",
    "# x-coordinate\n",
    "xt_1, xt_2, xt_3 = dynamicsymbols('x_1, x_2, x_3')\n",
    "\n",
    "# y-coordinate\n",
    "yt_1, yt_2, yt_3 = dynamicsymbols('y_1, y_2, y_3')\n",
    "\n",
    "#create derivative of the x-coordinate\n",
    "xt_1_dot = diff(xt_1, t)\n",
    "xt_2_dot = diff(xt_2, t)\n",
    "xt_3_dot = diff(xt_3, t)\n",
    "\n",
    "#create derivative of the y-coordinate\n",
    "yt_1_dot = diff(yt_1, t)\n",
    "yt_2_dot = diff(yt_2, t)\n",
    "yt_3_dot = diff(yt_3, t)\n",
    "\n",
    "### redefine dynamic symbols for substitution later to remove dynamics ###\n",
    "# position\n",
    "x_1, x_2, x_3 = symbols('x_1, x_2, x_3')\n",
    "y_1, y_2, y_3 = symbols('y_1, y_2, y_3')\n",
    "\n",
    "# velocity\n",
    "x_1_dot, x_2_dot, x_3_dot = symbols(r'\\dot{x_1}, \\dot{x_2}, \\dot{x_3}')\n",
    "y_1_dot, y_2_dot, y_3_dot = symbols(r'\\dot{y_1}, \\dot{y_2}, \\dot{y_3}')\n",
    "\n",
    "# acceleration\n",
    "x_1_ddot, x_2_ddot, x_3_ddot = symbols(r'\\ddot{x_1}, \\ddot{x_2}, \\ddot{x_3}')\n",
    "y_1_ddot, y_2_ddot, y_3_ddot = symbols(r'\\ddot{y_1}, \\ddot{y_2}, \\ddot{y_3}')\n",
    "\n",
    "### define constants ###\n",
    "# gravitational Constant\n",
    "G_const = symbols('G', integer=True, positive=True)\n",
    "\n",
    "# masses\n",
    "m1_const = symbols('m_1', integer=True, positive=True)\n",
    "m2_const = symbols('m_2', integer=True, positive=True)\n",
    "m3_const = symbols('m_3', integer=True, positive=True)"
   ]
  },
  {
   "cell_type": "markdown",
   "metadata": {},
   "source": [
    "The potential energy must be reformed with the three components and the kinetic must also now include the third body"
   ]
  },
  {
   "cell_type": "code",
   "execution_count": 6,
   "metadata": {},
   "outputs": [
    {
     "data": {
      "text/latex": [
       "$\\displaystyle \\frac{m_{1} \\left(\\left(\\frac{d}{d t} \\operatorname{x_{1}}{\\left (t \\right )}\\right)^{2} + \\left(\\frac{d}{d t} \\operatorname{y_{1}}{\\left (t \\right )}\\right)^{2}\\right)}{2} + \\frac{m_{2} \\left(\\left(\\frac{d}{d t} \\operatorname{x_{2}}{\\left (t \\right )}\\right)^{2} + \\left(\\frac{d}{d t} \\operatorname{y_{2}}{\\left (t \\right )}\\right)^{2}\\right)}{2} + \\frac{m_{3} \\left(\\left(\\frac{d}{d t} \\operatorname{x_{3}}{\\left (t \\right )}\\right)^{2} + \\left(\\frac{d}{d t} \\operatorname{y_{3}}{\\left (t \\right )}\\right)^{2}\\right)}{2}$"
      ],
      "text/plain": [
       "<IPython.core.display.Math object>"
      ]
     },
     "metadata": {},
     "output_type": "display_data"
    },
    {
     "data": {
      "text/latex": [
       "$\\displaystyle - \\frac{G m_{1} m_{2}}{\\left(\\left(\\operatorname{x_{1}}{\\left (t \\right )} - \\operatorname{x_{2}}{\\left (t \\right )}\\right)^{2} + \\left(\\operatorname{y_{1}}{\\left (t \\right )} - \\operatorname{y_{2}}{\\left (t \\right )}\\right)^{2}\\right)^{0.5}} - \\frac{G m_{1} m_{3}}{\\left(\\left(\\operatorname{x_{1}}{\\left (t \\right )} - \\operatorname{x_{3}}{\\left (t \\right )}\\right)^{2} + \\left(\\operatorname{y_{1}}{\\left (t \\right )} - \\operatorname{y_{3}}{\\left (t \\right )}\\right)^{2}\\right)^{0.5}} - \\frac{G m_{2} m_{3}}{\\left(\\left(\\operatorname{x_{2}}{\\left (t \\right )} - \\operatorname{x_{3}}{\\left (t \\right )}\\right)^{2} + \\left(\\operatorname{y_{2}}{\\left (t \\right )} - \\operatorname{y_{3}}{\\left (t \\right )}\\right)^{2}\\right)^{0.5}}$"
      ],
      "text/plain": [
       "<IPython.core.display.Math object>"
      ]
     },
     "metadata": {},
     "output_type": "display_data"
    }
   ],
   "source": [
    "# set up r^2 in cartesian coordinates\n",
    "r_12 = ((xt_1 - xt_2)**2 + (yt_1 - yt_2)**2)\n",
    "r_13 = ((xt_1 - xt_3)**2 + (yt_1 - yt_3)**2)\n",
    "r_23 = ((xt_2 - xt_3)**2 + (yt_2 - yt_3)**2)\n",
    "\n",
    "### The Potential energy ###\n",
    "# 1 with 2\n",
    "U_12 = -G_const * (m1_const * m2_const)/ (r_12**(1/2))\n",
    "# 1 with 3\n",
    "U_13 = -G_const * (m1_const * m3_const)/ (r_13**(1/2))\n",
    "#2 with 3\n",
    "U_23 = -G_const * (m3_const * m2_const)/ (r_23**(1/2))\n",
    "\n",
    "# The total potential energy\n",
    "U = U_12 + U_13 + U_23\n",
    "\n",
    "# The Kinetic energy term is:\n",
    "T = (m1_const/2 * (xt_1_dot**2 + yt_1_dot**2) +\\\n",
    "     m2_const/2 * (xt_2_dot**2 + yt_2_dot**2) +\\\n",
    "     m3_const/2 * (xt_3_dot**2 + yt_3_dot**2))\n",
    "\n",
    "\n",
    "#debug checker\n",
    "#Displays the kinetic and potential energy\n",
    "display(Math(latex(T)))\n",
    "display(Math(latex(U)))"
   ]
  },
  {
   "cell_type": "markdown",
   "metadata": {},
   "source": [
    "The class that pertains to solving the differential equations can now be formulated from the previous orbits subclass"
   ]
  },
  {
   "cell_type": "code",
   "execution_count": 12,
   "metadata": {},
   "outputs": [],
   "source": [
    "class three_body(Lagrange_finder):\n",
    "    def __init__(self, q, q_dot, p, p_dot, p_ddot, G, m_1, m_2, m_3):\n",
    "        Lagrange_finder.__init__(self, q = q, q_dot = q_dot,\n",
    "                                 p = p, p_dot = p_dot, p_ddot = p_ddot)\n",
    "        self.p = p\n",
    "        self.p_dot = p_dot\n",
    "        self.p_ddot = p_ddot\n",
    "        \n",
    "        self.G = G\n",
    "        self.m_1 = m_1\n",
    "        self.m_2 = m_2\n",
    "        self.m_3 = m_3\n",
    "        \n",
    "    def conversion(self): \n",
    "        \"\"\"\n",
    "        converts input to a lambdify generated function\n",
    "        \"\"\"\n",
    "        # call substituted equations of motion\n",
    "        numODE = []\n",
    "        for i in range(len(self.ODE)):\n",
    "            numODE.append(self.ODE[i][0])\n",
    "        \n",
    "        # initialize empty array of the converted function\n",
    "        self.npfunc = []\n",
    "        \n",
    "        # loop through the equations of motion\n",
    "        for i in range(len(numODE)):\n",
    "            f = lambdify((self.p[0], self.p[1], self.p[2], self.p[3],\n",
    "                          self.p[4], self.p[5],\n",
    "                          'G', 'm_1', 'm_2', 'm_3') , numODE[i], np)\n",
    "            self.npfunc.append(f)\n",
    "            \n",
    "            \n",
    "        return self.npfunc\n",
    "    \n",
    "    def dU_dt(self, t, U):\n",
    "        \"\"\"\n",
    "        This function returns the right-hand side of the diffeq: \n",
    "        [dr/dt d^2r/dt^2]\n",
    "        \n",
    "        Parameters\n",
    "        ----------\n",
    "        t : float\n",
    "            time \n",
    "        U : float\n",
    "            8-component vector with U[0] = x1(t), U[1] = dx1/dt,\n",
    "            U[2] = y1(t), U[3] = dy1/dt, U[4] = x2(t), U[5] = dx2/dt,\n",
    "            U[6] = y2(t), U[7] = dy2/dt]\n",
    "            \n",
    "        \"\"\"\n",
    "        acceleration = self.npfunc\n",
    "        \n",
    "        return [U[1], acceleration[0](U[0], U[2], U[4], U[6], U[8], U[10],\n",
    "                                       self.G, self.m_1, self.m_2, self.m_3),\n",
    "                U[3], acceleration[1](U[0], U[2], U[4], U[6], U[8], U[10],\n",
    "                                       self.G, self.m_1, self.m_2, self.m_3),\n",
    "                U[5], acceleration[2](U[0], U[2], U[4], U[6], U[8], U[10],\n",
    "                                       self.G, self.m_1, self.m_2, self.m_3),\n",
    "                U[7], acceleration[3](U[0], U[2], U[4], U[6], U[8], U[10],\n",
    "                                       self.G, self.m_1, self.m_2, self.m_3),\n",
    "                U[9], acceleration[4](U[0], U[2], U[4], U[6], U[8], U[10],\n",
    "                                       self.G, self.m_1, self.m_2, self.m_3),\n",
    "                U[11], acceleration[5](U[0], U[2], U[4], U[6], U[8], U[10],\n",
    "                                       self.G, self.m_1, self.m_2, self.m_3)]\n",
    "    \n",
    "    def ODE_ivp(self, t_pts,\n",
    "                x1_0, x1_0_dot, y1_0, y1_0_dot,\n",
    "                x2_0, x2_0_dot, y2_0, y2_0_dot,\n",
    "                x3_0, x3_0_dot, y3_0, y3_0_dot):\n",
    "        \"\"\"\n",
    "        solves differential equations using solve_ivp\n",
    "        \"\"\"\n",
    "        U_0 = [x1_0, x1_0_dot, y1_0, y1_0_dot,\n",
    "               x2_0, x2_0_dot, y2_0, y2_0_dot,\n",
    "               x3_0, x3_0_dot, y3_0, y3_0_dot]\n",
    "        \n",
    "        solution = solve_ivp(self.dU_dt, (t_pts[0], t_pts[-1]),\n",
    "                             U_0, t_eval = t_pts, atol = 1.0e-7,\n",
    "                             rtol = 1.0e-7)\n",
    "        \n",
    "        x1, x1_dot, y1, y1_dot, x2, x2_dot, y2, y2_dot, x3, x3_dot, y3, y3_dot \\\n",
    "        = solution.y\n",
    "        print(solution.message, solution.success)\n",
    "        return x1, x1_dot, y1, y1_dot, x2, x2_dot, y2, y2_dot,x3, x3_dot, y3, y3_dot\n",
    "        \n"
   ]
  },
  {
   "cell_type": "code",
   "execution_count": 31,
   "metadata": {},
   "outputs": [],
   "source": [
    "# Use dynamic symbols first\n",
    "q = [xt_1, yt_1, xt_2, yt_2, xt_3, yt_3]\n",
    "q_dot = [xt_1_dot, yt_1_dot, xt_2_dot, yt_2_dot, xt_3_dot, yt_3_dot]\n",
    "\n",
    "# These will be substituted in after solving lagranges equations.\n",
    "#position\n",
    "p = [x_1, y_1, x_2, y_2, x_3, y_3]\n",
    "#velocity\n",
    "p_dot = [x_1_dot, y_1_dot, x_2_dot, y_2_dot, x_3_dot, y_3_dot]\n",
    "#acceleration\n",
    "p_ddot = [x_1_ddot,  y_1_ddot, x_2_ddot, y_2_ddot, x_3_ddot, y_3_ddot]\n",
    "\n",
    "#constants\n",
    "m_1 = 50.\n",
    "m_2 = 1.\n",
    "m_3 = 1.\n",
    "G = 2.\n",
    "\n",
    "orbit = three_body(q = q, q_dot = q_dot,\n",
    "                 p = p, p_dot = p_dot, p_ddot = p_ddot,\n",
    "                 G = G, m_1 = m_1, m_2 = m_2, m_3 = m_3)"
   ]
  },
  {
   "cell_type": "markdown",
   "metadata": {},
   "source": [
    "The lagrangian of the system is:"
   ]
  },
  {
   "cell_type": "code",
   "execution_count": 32,
   "metadata": {},
   "outputs": [
    {
     "data": {
      "text/latex": [
       "$\\displaystyle \\frac{G m_{1} m_{2}}{\\left(\\left(\\operatorname{x_{1}}{\\left (t \\right )} - \\operatorname{x_{2}}{\\left (t \\right )}\\right)^{2} + \\left(\\operatorname{y_{1}}{\\left (t \\right )} - \\operatorname{y_{2}}{\\left (t \\right )}\\right)^{2}\\right)^{0.5}} + \\frac{G m_{1} m_{3}}{\\left(\\left(\\operatorname{x_{1}}{\\left (t \\right )} - \\operatorname{x_{3}}{\\left (t \\right )}\\right)^{2} + \\left(\\operatorname{y_{1}}{\\left (t \\right )} - \\operatorname{y_{3}}{\\left (t \\right )}\\right)^{2}\\right)^{0.5}} + \\frac{G m_{2} m_{3}}{\\left(\\left(\\operatorname{x_{2}}{\\left (t \\right )} - \\operatorname{x_{3}}{\\left (t \\right )}\\right)^{2} + \\left(\\operatorname{y_{2}}{\\left (t \\right )} - \\operatorname{y_{3}}{\\left (t \\right )}\\right)^{2}\\right)^{0.5}} + \\frac{m_{1} \\left(\\frac{d}{d t} \\operatorname{x_{1}}{\\left (t \\right )}\\right)^{2}}{2} + \\frac{m_{1} \\left(\\frac{d}{d t} \\operatorname{y_{1}}{\\left (t \\right )}\\right)^{2}}{2} + \\frac{m_{2} \\left(\\frac{d}{d t} \\operatorname{x_{2}}{\\left (t \\right )}\\right)^{2}}{2} + \\frac{m_{2} \\left(\\frac{d}{d t} \\operatorname{y_{2}}{\\left (t \\right )}\\right)^{2}}{2} + \\frac{m_{3} \\left(\\frac{d}{d t} \\operatorname{x_{3}}{\\left (t \\right )}\\right)^{2}}{2} + \\frac{m_{3} \\left(\\frac{d}{d t} \\operatorname{y_{3}}{\\left (t \\right )}\\right)^{2}}{2}$"
      ],
      "text/plain": [
       "<IPython.core.display.Math object>"
      ]
     },
     "metadata": {},
     "output_type": "display_data"
    }
   ],
   "source": [
    "lagrangian = orbit.Lagrangian(U = U, T = T)\n",
    "display(Math(latex(lagrangian)))"
   ]
  },
  {
   "cell_type": "markdown",
   "metadata": {},
   "source": [
    "From the Lagrangian, the equations of motion are:"
   ]
  },
  {
   "cell_type": "code",
   "execution_count": 33,
   "metadata": {},
   "outputs": [
    {
     "data": {
      "text/latex": [
       "$\\displaystyle \\left [ \\left [ \\frac{G \\left(m_{2} \\left(- x_{1} + x_{2}\\right) \\left(\\left(x_{1} - x_{3}\\right)^{2} + \\left(y_{1} - y_{3}\\right)^{2}\\right)^{\\frac{3}{2}} + m_{3} \\left(- x_{1} + x_{3}\\right) \\left(\\left(x_{1} - x_{2}\\right)^{2} + \\left(y_{1} - y_{2}\\right)^{2}\\right)^{\\frac{3}{2}}\\right)}{\\left(\\left(x_{1} - x_{2}\\right)^{2} + \\left(y_{1} - y_{2}\\right)^{2}\\right)^{\\frac{3}{2}} \\left(\\left(x_{1} - x_{3}\\right)^{2} + \\left(y_{1} - y_{3}\\right)^{2}\\right)^{\\frac{3}{2}}}\\right ], \\quad \\left [ \\frac{G \\left(m_{2} \\left(- y_{1} + y_{2}\\right) \\left(\\left(x_{1} - x_{3}\\right)^{2} + \\left(y_{1} - y_{3}\\right)^{2}\\right)^{\\frac{3}{2}} + m_{3} \\left(- y_{1} + y_{3}\\right) \\left(\\left(x_{1} - x_{2}\\right)^{2} + \\left(y_{1} - y_{2}\\right)^{2}\\right)^{\\frac{3}{2}}\\right)}{\\left(\\left(x_{1} - x_{2}\\right)^{2} + \\left(y_{1} - y_{2}\\right)^{2}\\right)^{\\frac{3}{2}} \\left(\\left(x_{1} - x_{3}\\right)^{2} + \\left(y_{1} - y_{3}\\right)^{2}\\right)^{\\frac{3}{2}}}\\right ], \\quad \\left [ \\frac{G \\left(m_{1} \\left(x_{1} - x_{2}\\right) \\left(\\left(x_{2} - x_{3}\\right)^{2} + \\left(y_{2} - y_{3}\\right)^{2}\\right)^{\\frac{3}{2}} + m_{3} \\left(- x_{2} + x_{3}\\right) \\left(\\left(x_{1} - x_{2}\\right)^{2} + \\left(y_{1} - y_{2}\\right)^{2}\\right)^{\\frac{3}{2}}\\right)}{\\left(\\left(x_{1} - x_{2}\\right)^{2} + \\left(y_{1} - y_{2}\\right)^{2}\\right)^{\\frac{3}{2}} \\left(\\left(x_{2} - x_{3}\\right)^{2} + \\left(y_{2} - y_{3}\\right)^{2}\\right)^{\\frac{3}{2}}}\\right ], \\quad \\left [ \\frac{G \\left(m_{1} \\left(y_{1} - y_{2}\\right) \\left(\\left(x_{2} - x_{3}\\right)^{2} + \\left(y_{2} - y_{3}\\right)^{2}\\right)^{\\frac{3}{2}} + m_{3} \\left(- y_{2} + y_{3}\\right) \\left(\\left(x_{1} - x_{2}\\right)^{2} + \\left(y_{1} - y_{2}\\right)^{2}\\right)^{\\frac{3}{2}}\\right)}{\\left(\\left(x_{1} - x_{2}\\right)^{2} + \\left(y_{1} - y_{2}\\right)^{2}\\right)^{\\frac{3}{2}} \\left(\\left(x_{2} - x_{3}\\right)^{2} + \\left(y_{2} - y_{3}\\right)^{2}\\right)^{\\frac{3}{2}}}\\right ], \\quad \\left [ \\frac{G \\left(m_{1} \\left(x_{1} - x_{3}\\right) \\left(\\left(x_{2} - x_{3}\\right)^{2} + \\left(y_{2} - y_{3}\\right)^{2}\\right)^{\\frac{3}{2}} + m_{2} \\left(x_{2} - x_{3}\\right) \\left(\\left(x_{1} - x_{3}\\right)^{2} + \\left(y_{1} - y_{3}\\right)^{2}\\right)^{\\frac{3}{2}}\\right)}{\\left(\\left(x_{1} - x_{3}\\right)^{2} + \\left(y_{1} - y_{3}\\right)^{2}\\right)^{\\frac{3}{2}} \\left(\\left(x_{2} - x_{3}\\right)^{2} + \\left(y_{2} - y_{3}\\right)^{2}\\right)^{\\frac{3}{2}}}\\right ], \\quad \\left [ \\frac{G \\left(m_{1} \\left(y_{1} - y_{3}\\right) \\left(\\left(x_{2} - x_{3}\\right)^{2} + \\left(y_{2} - y_{3}\\right)^{2}\\right)^{\\frac{3}{2}} + m_{2} \\left(y_{2} - y_{3}\\right) \\left(\\left(x_{1} - x_{3}\\right)^{2} + \\left(y_{1} - y_{3}\\right)^{2}\\right)^{\\frac{3}{2}}\\right)}{\\left(\\left(x_{1} - x_{3}\\right)^{2} + \\left(y_{1} - y_{3}\\right)^{2}\\right)^{\\frac{3}{2}} \\left(\\left(x_{2} - x_{3}\\right)^{2} + \\left(y_{2} - y_{3}\\right)^{2}\\right)^{\\frac{3}{2}}}\\right ]\\right ]$"
      ],
      "text/plain": [
       "<IPython.core.display.Math object>"
      ]
     },
     "metadata": {},
     "output_type": "display_data"
    }
   ],
   "source": [
    "diffeq = orbit.Lagrange()\n",
    "\n",
    "display(Math(latex(diffeq)))"
   ]
  },
  {
   "cell_type": "markdown",
   "metadata": {},
   "source": [
    "The vector's that can be used to solve the equations of motion: \n",
    "\n",
    "$\\begin{align}\n",
    "  \\mathbf{U} = \\left(\\begin{array}{c} x_1(t) \\\\ \\dot x_1(t) \\\\ y_1(t) \\\\ \\dot y_1(t) \\\\ x_2(t) \\\\ \\dot x_2(t) \\\\ y_2(t) \\\\ \\dot y_2(t) \\\\ x_3(t) \\\\ \\dot x_3(t) \\\\ y_3(t) \\\\ \\dot y_3(t)  \\end{array} \\right) \n",
    "  \\qquad\n",
    "  \\frac{d\\mathbf{U}}{dt} \n",
    "       = \\left(\\begin{array}{c} \\dot x_1(t) \\\\ \\ddot x_1(t) \\\\ \\dot y_1(t) \\\\ \\ddot y_1(t) \\\\ \\dot x_2(t) \\\\ \\ddot x_2(t) \\\\ \\dot y_2(t) \\\\ \\ddot y_2(t) \\\\ \\dot x_3(t) \\\\ \\ddot x_3(t) \\\\ \\dot y_3(t) \\\\ \\ddot y_3(t) \\end{array} \\right) \n",
    "\\end{align}$\n",
    "\n",
    "These are large vectors but require minimal substitution into the subclass since we are reusing the two_body subclass as a baseline for the three body system."
   ]
  },
  {
   "cell_type": "code",
   "execution_count": 34,
   "metadata": {},
   "outputs": [],
   "source": [
    "orbit.conversion();"
   ]
  },
  {
   "cell_type": "markdown",
   "metadata": {},
   "source": [
    "The system is now ready to be solved but we will use Solve_ivp here for speed."
   ]
  },
  {
   "cell_type": "code",
   "execution_count": 39,
   "metadata": {},
   "outputs": [],
   "source": [
    "t_start = 0.\n",
    "t_stop = 200.\n",
    "delta_t = 0.01\n",
    "\n",
    "t_pts = arange(t_start, t_stop + delta_t, delta_t)"
   ]
  },
  {
   "cell_type": "code",
   "execution_count": 49,
   "metadata": {},
   "outputs": [],
   "source": [
    "# body 1\n",
    "x1_0 = 0.001\n",
    "y1_0 = 0.\n",
    "x1_dot_0 = 0.\n",
    "y1_dot_0 = .005\n",
    "\n",
    "# body 2\n",
    "x2_0 = -20.\n",
    "x2_dot_0 = 0.\n",
    "y2_0 = -0.\n",
    "y2_dot_0 = -2.\n",
    "\n",
    "# body 3\n",
    "x3_0 = - (m_1 * x1_0 + m_2 * x2_0) / m_3\n",
    "x3_dot_0 = - (m_1 * x1_dot_0 + m_2 * x2_dot_0) / m_3\n",
    "y3_0 = - (m_1 * y1_0 + m_2 * y2_0) / m_3\n",
    "y3_dot_0 = - (m_1 * y1_dot_0 + m_2 * y2_dot_0) / m_3"
   ]
  },
  {
   "cell_type": "code",
   "execution_count": 50,
   "metadata": {},
   "outputs": [
    {
     "name": "stdout",
     "output_type": "stream",
     "text": [
      "The solver successfully reached the end of the integration interval. True\n"
     ]
    }
   ],
   "source": [
    "x_pos1_ivp, x1pos_dot, y_pos1_ivp, y1pos_dot,\\\n",
    "x_pos2_ivp, x2pos_dot, y_pos2_ivp, y2pos_dot,\\\n",
    "x_pos3_ivp, x3pos_dot, y_pos3_ivp, y3pos_dot = orbit.ODE_ivp(t_pts = t_pts,\n",
    "                                                    x1_0 = x1_0, x1_0_dot = x1_dot_0,\n",
    "                                                    y1_0 = y1_0, y1_0_dot = y1_dot_0,\n",
    "                                                    x2_0 = x2_0, x2_0_dot = x2_dot_0,\n",
    "                                                    y2_0 = y2_0, y2_0_dot = y2_dot_0,\n",
    "                                                    x3_0 = x3_0, x3_0_dot = x3_dot_0,\n",
    "                                                    y3_0 = y3_0, y3_0_dot = y3_dot_0)       "
   ]
  },
  {
   "cell_type": "code",
   "execution_count": 51,
   "metadata": {},
   "outputs": [
    {
     "data": {
      "image/png": "[encoded data removed]",
      "text/plain": [
       "<Figure size 360x360 with 1 Axes>"
      ]
     },
     "metadata": {
      "needs_background": "light"
     },
     "output_type": "display_data"
    }
   ],
   "source": [
    "fig = plt.figure(figsize=(5,5), num='pendulum')\n",
    "ax = fig.add_subplot(1,1,1)\n",
    "\n",
    "ax.plot(x_pos1_ivp, y_pos1_ivp, linestyle='solid', color = 'blue',\\\n",
    "        label=rf'$Body 1$')\n",
    "\n",
    "ax.plot(x_pos2_ivp, y_pos2_ivp, linestyle='solid', color = 'magenta',\\\n",
    "        label=rf'$Body 2$')\n",
    "\n",
    "ax.plot(x_pos3_ivp, y_pos3_ivp, linestyle='solid', color = 'green',\\\n",
    "        label=rf'$Body 3$')\n",
    "\n",
    "ax.legend()\n",
    "\n",
    "ax.set_xlabel('x')\n",
    "ax.set_ylabel('y')\n",
    "#ax.set_xlim(-20,20)\n",
    "#ax.set_ylim(-20,20)\n",
    "ax.set_aspect(1)\n",
    "\n",
    "fig.tight_layout();"
   ]
  },
  {
   "cell_type": "code",
   "execution_count": null,
   "metadata": {},
   "outputs": [],
   "source": []
  }
 ],
 "metadata": {
  "kernelspec": {
   "display_name": "Python 3",
   "language": "python",
   "name": "python3"
  },
  "language_info": {
   "codemirror_mode": {
    "name": "ipython",
    "version": 3
   },
   "file_extension": ".py",
   "mimetype": "text/x-python",
   "name": "python",
   "nbconvert_exporter": "python",
   "pygments_lexer": "ipython3",
   "version": "3.7.1"
  }
 },
 "nbformat": 4,
 "nbformat_minor": 2
}
