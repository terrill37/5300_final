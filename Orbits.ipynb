{
 "cells": [
  {
   "cell_type": "markdown",
   "metadata": {},
   "source": [
    "# Orbits\n",
    "created by: Wesley Terrill (04/22/2019)<br/>\n",
    "revised on: (04/22/2019)"
   ]
  },
  {
   "cell_type": "markdown",
   "metadata": {},
   "source": [
    "The two body potential energy is given by:<br/>\n",
    "$U(r) = -G \\frac{m_1 m_2}{r}$<br/>\n",
    "To solve in cartesian coordinates, convert r to cartesian coordinates for each body 1 and 2.<br/>\n",
    "\n",
    "So <br/> \n",
    "$\n",
    "r = \\sqrt{(x_1-x_2)^2 + (y_1-y_2)^2}\n",
    "$\n",
    "\n",
    "The potential then becomes: <br/>\n",
    "$\n",
    "U(x_1, x_2, y_1, y_2) = -G \\frac{m_1 m_2}{\\sqrt{(x_1-x_2)^2 + (y_1-y_2)^2}}\n",
    "$\n",
    "\n",
    "The kinetic energy term is still the same for normal cartesian coordinates:<br/>\n",
    "$\n",
    "T = \\frac{m_1}{2} (\\dot{x_1}^2 + \\dot{y_1}^2) + \\frac{m_2}{2} (\\dot{x_2}^2 + \\dot{y_2}^2)\n",
    "$\n",
    "\n",
    "The Lagrange of the system is then:\n",
    "$L = T - U = \\frac{m_1}{2} (\\dot{x_1}^2 + \\dot{y_1}^2) + \\frac{m_2}{2} (\\dot{x_2}^2 + \\dot{y_2}^2) + G \\frac{m_1 m_2}{\\sqrt{(x_1-x_2)^2 + (y_1-y_2)^2}}\n",
    "$"
   ]
  },
  {
   "cell_type": "markdown",
   "metadata": {},
   "source": [
    "First set up notebook"
   ]
  },
  {
   "cell_type": "code",
   "execution_count": 1,
   "metadata": {},
   "outputs": [],
   "source": [
    "%matplotlib inline\n"
   ]
  },
  {
   "cell_type": "code",
   "execution_count": 2,
   "metadata": {},
   "outputs": [],
   "source": [
    "import numpy as np\n",
    "import matplotlib.pyplot as plt\n",
    "from scipy.integrate import solve_ivp\n",
    "from scipy import linalg as LA \n",
    "\n",
    "from scipy.integrate import odeint\n",
    "\n",
    "from mpmath import *\n",
    "\n",
    "#import functions from sympy\n",
    "import sympy as sym\n",
    "from sympy import *\n",
    "#from sympy.mpmath import *\n",
    "\n",
    "#from sympy.functions.elementary.trigonometric import sin, cos\n",
    "from sympy.physics.vector import dynamicsymbols\n",
    "from sympy import diff, Symbol\n",
    "from sympy.printing.mathml import print_mathml\n",
    "from sympy.abc import t\n",
    "from sympy.utilities.lambdify import lambdify, implemented_function\n",
    "from sympy import Function\n",
    "\n",
    "from IPython.display import display, Math #for printing latex string\n",
    "\n",
    "from scipy.integrate import solve_ivp\n",
    "\n",
    "from matplotlib import animation, rc\n",
    "from IPython.display import HTML, Image\n",
    "from matplotlib import animation, rc\n",
    "\n"
   ]
  },
  {
   "cell_type": "markdown",
   "metadata": {},
   "source": [
    "We can take the class multi_pendulum from double and triple pendulum notebooks as it only manipulates the lagrange equations. The class only needs minor modifications to run the two-body problem. Renamed the class Lagrange_finder as it just sets up the lagrange equations."
   ]
  },
  {
   "cell_type": "code",
   "execution_count": 3,
   "metadata": {},
   "outputs": [],
   "source": [
    "class Lagrange_finder():\n",
    "    \"\"\"\n",
    "    Lagrange_finder class implements the parameters to solve \n",
    "    Lagrangian for motion of system most systems\n",
    "    \n",
    "    Parameters\n",
    "    ----------\n",
    "    q(t) : dynamic symbol array\n",
    "        position of mass as a function of time in terms of angle\n",
    "        to be solved for\n",
    "        will be defined outside class\n",
    "        \n",
    "    q_dot(t) : dynamic symbol array\n",
    "        angular velocity of mass as a function of time\n",
    "        defined outside class\n",
    "        \n",
    "    p(t) : non-dynamic array\n",
    "        same as q\n",
    "        subs in for dynamic terms\n",
    "        \n",
    "    p_dot(t) : non-dynamic array\n",
    "        same as q_dot\n",
    "        subs in for dynamic terms\n",
    "        \n",
    "    p_ddot(t) : non-dynamic array\n",
    "        The acceleration components of q\n",
    "        subs in for dyamic terms\n",
    "    \n",
    "    Methods\n",
    "    -------\n",
    "    Lagrangian\n",
    "        creates lagrangian given kinetic energy and potential energy\n",
    "        in terms of q(t) and q_dot(t)\n",
    "        Returns the Lagrangian\n",
    "        \n",
    "    Lagrange\n",
    "        takes Lagrangian and uses to solve the Lagrange equations\n",
    "        Returns two lists of each half of differential equations\n",
    "    \"\"\"\n",
    "    \n",
    "    def __init__(self, q, q_dot, p, p_dot, p_ddot):\n",
    "        self.q = q\n",
    "        self.q_dot = q_dot\n",
    "        self.p = p\n",
    "        self.p_dot = p_dot\n",
    "        self.p_ddot = p_ddot\n",
    "        \n",
    "    def Lagrangian(self, U, T):\n",
    "        \"\"\"\n",
    "        Forms the Lagrangian of the pendulum system given Potential \n",
    "        and Kinetic energy of system\n",
    "        Solves Lagranges equations symbolically\n",
    "        Returns the Lagrange\n",
    "        \"\"\"\n",
    "        \n",
    "        self.Lagrangian = simplify(T - U)\n",
    "        \n",
    "        return self.Lagrangian\n",
    "    \n",
    "    def Lagrange(self):\n",
    "        \"\"\"\n",
    "        takes Lagrangian and uses to solve the Lagrange equations\n",
    "        Returns two lists of each half of differential equations\n",
    "        \"\"\"\n",
    "        # intialize list of ODE for each term\n",
    "        self.ODE = []\n",
    "        \n",
    "        # iterates for each angle variable\n",
    "        for i in range(0, len(self.q)):\n",
    "            #Derivative with respect to q\n",
    "            dL_dq = diff(self.Lagrangian, self.q[i])\n",
    "        \n",
    "            #Derivative with respect to q_dot\n",
    "            dL_dq_dot = simplify(diff(self.Lagrangian, self.q_dot[i]))\n",
    "        \n",
    "            #Time derivative\n",
    "            dL_dq_dot_dt = diff(dL_dq_dot, t)\n",
    "            \n",
    "            #assemble as function\n",
    "            lagrange = simplify(Eq(dL_dq,dL_dq_dot_dt))\n",
    "        \n",
    "            #loop substitutes variables earlier for ease of reading using vector U\n",
    "            for j in range(len(self.q)):\n",
    "                lagrange = lagrange.subs([(diff(self.q_dot[j],t), self.p_ddot[j]),\n",
    "                                          (self.q_dot[j], self.p_dot[j]), \n",
    "                                          (self.q[j],p[j])])\n",
    "            \n",
    "            diffeq = solve(lagrange, self.p_ddot[i])\n",
    "            #self.ODE.append([diff(diff(self.q[i],t),t), diffeq])\n",
    "            self.ODE.append(diffeq)\n",
    "    \n",
    "        return self.ODE\n"
   ]
  },
  {
   "cell_type": "code",
   "execution_count": 4,
   "metadata": {},
   "outputs": [],
   "source": [
    "class two_body(Lagrange_finder):\n",
    "    \"\"\"\n",
    "    two-body is a subclass of Lagrange_finder optimized for the two \n",
    "    body problem\n",
    "    \n",
    "    Parmeters\n",
    "    ---------\n",
    "    q(t) : dynamic symbol array\n",
    "        position of mass as a function of time in terms of angle\n",
    "        to be solved for\n",
    "        will be defined outside class\n",
    "        \n",
    "    q_dot(t) : dynamic symbol array\n",
    "        angular velocity of mass as a function of time\n",
    "        defined outside class\n",
    "        \n",
    "    p(t) : symbol array\n",
    "        equivalent substituent of q(t)\n",
    "        defined outside class\n",
    "        used to sub out q(t) for simplification reasons\n",
    "    \n",
    "    p_dot(t) : symbol array\n",
    "        equivalent substituent to first derivative of q(t)\n",
    "        with respect to time\n",
    "        used to replace q_dot(t)\n",
    "        \n",
    "    p_ddot(t) : symbol array\n",
    "        equivalent substituent to second derivative of q(t)\n",
    "        with respect to time\n",
    "        used to replace the derivative q_dot(t) with respect to time\n",
    "        \n",
    "    m_i : numeric value\n",
    "        mass of body i\n",
    "        \n",
    "    G : numeric value\n",
    "        gravitational constant\n",
    "        \n",
    "    Methods\n",
    "    -------\n",
    "    After Lagrange solver activated for class call:\n",
    "    \n",
    "    conversion\n",
    "        Changes the sympy equation into numpy capable format.\n",
    "        \n",
    "    dU_dt\n",
    "        returns the right hand sides of the differential equations\n",
    "        \n",
    "    solve_ode_leapfrog\n",
    "        numerically solve the two-body differential equations using the\n",
    "        leapfrog method with calls to dU_dt\n",
    "        \n",
    "    ODE_ivp\n",
    "        numerically solves the two-body differential equations using\n",
    "        solve_ivp\n",
    "    \"\"\"\n",
    "    def __init__(self, q, q_dot, p, p_dot, p_ddot, G, m_1, m_2):\n",
    "        Lagrange_finder.__init__(self, q = q, q_dot = q_dot,\n",
    "                                 p = p, p_dot = p_dot, p_ddot = p_ddot)\n",
    "        self.p = p\n",
    "        self.p_dot = p_dot\n",
    "        self.p_ddot = p_ddot\n",
    "        \n",
    "        self.G = G\n",
    "        self.m_1 = m_1\n",
    "        self.m_2 = m_2\n",
    "        \n",
    "    def conversion(self): \n",
    "        \"\"\"\n",
    "        converts input to a lambdify generated function\n",
    "        \"\"\"\n",
    "        # call substituted equations of motion\n",
    "        numODE = []\n",
    "        for i in range(len(self.ODE)):\n",
    "            numODE.append(self.ODE[i][0])\n",
    "        \n",
    "        # initialize empty array of the converted function\n",
    "        self.npfunc = []\n",
    "        \n",
    "        # loop through the equations of motion\n",
    "        for i in range(len(numODE)):\n",
    "            f = lambdify((self.p[0], self.p[1], self.p[2], self.p[3],\n",
    "                          'G', 'm_1', 'm_2') , numODE[i], np)\n",
    "            self.npfunc.append(f)\n",
    "            \n",
    "            \n",
    "        return self.npfunc\n",
    "    \n",
    "    def dU_dt(self, t, U):\n",
    "        \"\"\"\n",
    "        This function returns the right-hand side of the diffeq: \n",
    "        [dr/dt d^2r/dt^2]\n",
    "        \n",
    "        Parameters\n",
    "        ----------\n",
    "        t : float\n",
    "            time \n",
    "        U : float\n",
    "            8-component vector with U[0] = x1(t), U[1] = dx1/dt,\n",
    "            U[2] = y1(t), U[3] = dy1/dt, U[4] = x2(t), U[5] = dx2/dt,\n",
    "            U[6] = y2(t), U[7] = dy2/dt]\n",
    "            \n",
    "        \"\"\"\n",
    "        acceleration = self.npfunc\n",
    "        \n",
    "        return [U[1], acceleration[0](U[0], U[2], U[4], U[6],\n",
    "                                       self.G, self.m_1, self.m_2),\n",
    "                U[3], acceleration[1](U[0], U[2], U[4], U[6],\n",
    "                                       self.G, self.m_1, self.m_2),\n",
    "                U[5], acceleration[2](U[0], U[2], U[4], U[6],\n",
    "                                       self.G, self.m_1, self.m_2),\n",
    "                U[7], acceleration[3](U[0], U[2], U[4], U[6],\n",
    "                                       self.G, self.m_1, self.m_2)]\n",
    "    \n",
    "    def solve_ode_Leapfrog(self, t_pts,\n",
    "                           x1_0, x1_0_dot, y1_0, y1_0_dot,\n",
    "                           x2_0, x2_0_dot, y2_0, y2_0_dot):\n",
    "        \"\"\"\n",
    "        Solve the ODE given initial conditions with the Leapfrog method.\n",
    "        \"\"\"\n",
    "        delta_t = t_pts[1] - t_pts[0]\n",
    "        \n",
    "        # initialize the arrays for r, rdot, r_dot_half, phi with zeros\n",
    "        num_t_pts = len(t_pts)\n",
    "        \n",
    "        # body one\n",
    "        x1 = np.zeros(num_t_pts)\n",
    "        x1_dot = np.zeros(num_t_pts)\n",
    "        x1_dot_half = np.zeros(num_t_pts)\n",
    "        y1 = np.zeros(num_t_pts)\n",
    "        y1_dot = np.zeros(num_t_pts)\n",
    "        y1_dot_half = np.zeros(num_t_pts)\n",
    "        \n",
    "        # body two\n",
    "        x2 = np.zeros(num_t_pts)\n",
    "        x2_dot = np.zeros(num_t_pts)\n",
    "        x2_dot_half = np.zeros(num_t_pts)\n",
    "        y2 = np.zeros(num_t_pts)\n",
    "        y2_dot = np.zeros(num_t_pts)\n",
    "        y2_dot_half = np.zeros(num_t_pts)\n",
    "        \n",
    "        ### initial conditions ###\n",
    "        # Body One\n",
    "        x1[0] = x1_0\n",
    "        x1_dot[0] = x1_0_dot\n",
    "        y1[0] = y1_0\n",
    "        y1_dot[0] = y1_0_dot\n",
    "        \n",
    "        # Body two\n",
    "        x2[0] = x2_0\n",
    "        x2_dot[0] = x2_0_dot\n",
    "        y2[0] = y2_0\n",
    "        y2_dot[0] = y2_0_dot\n",
    "        \n",
    "        # step through the differential equation\n",
    "        for i in np.arange(num_t_pts - 1):\n",
    "            # time point\n",
    "            t = t_pts[i]\n",
    "            \n",
    "            # positional vector U\n",
    "            U = [x1[i], x1_dot[i], y1[i], y1_dot[i],\n",
    "                 x2[i], x2_dot[i], y2[i], y2_dot[i]]\n",
    "            \n",
    "            # body one\n",
    "            x1_dot_half[i] = x1_dot[i] + self.dU_dt(t, U)[1] * delta_t/2.\n",
    "            x1[i+1] = x1[i] + x1_dot_half[i] * delta_t\n",
    "            \n",
    "            y1_dot_half[i] = y1_dot[i] + self.dU_dt(t, U)[3] * delta_t/2.\n",
    "            y1[i+1] = y1[i] + y1_dot_half[i] * delta_t\n",
    "            \n",
    "            # body two\n",
    "            x2_dot_half[i] = x2_dot[i] + self.dU_dt(t, U)[5] * delta_t/2.\n",
    "            x2[i+1] = x2[i] + x2_dot_half[i] * delta_t\n",
    "            \n",
    "            y2_dot_half[i] = y2_dot[i] + self.dU_dt(t, U)[7] * delta_t/2.\n",
    "            y2[i+1] = y2[i] + y2_dot_half[i] * delta_t\n",
    "            \n",
    "            # update vector U\n",
    "            U = [x1[i+1], x1_dot[i], y1[i+1], y1_dot[i],\n",
    "                 x2[i+1], x2_dot[i], y2[i+1], y2_dot[i]]\n",
    "            \n",
    "            # update velocities for next iteration\n",
    "            # body one\n",
    "            x1_dot[i+1] = x1_dot_half[i] + self.dU_dt(t, U)[1] * delta_t/2.\n",
    "            y1_dot[i+1] = y1_dot_half[i] + self.dU_dt(t, U)[3] * delta_t/2.\n",
    "            \n",
    "            # body two\n",
    "            x2_dot[i+1] = x2_dot_half[i] + self.dU_dt(t, U)[5] * delta_t/2.\n",
    "            y2_dot[i+1] = y2_dot_half[i] + self.dU_dt(t, U)[7] * delta_t/2.\n",
    "        \n",
    "        #return positions in cartesian coordinates\n",
    "        return x1, y1, x2, y2\n",
    "    \n",
    "    def ODE_ivp(self, t_pts,\n",
    "                x1_0, x1_0_dot, y1_0, y1_0_dot,\n",
    "                x2_0, x2_0_dot, y2_0, y2_0_dot):\n",
    "        \"\"\"\n",
    "        solves differential equations using solve_ivp\n",
    "        \"\"\"\n",
    "        U_0 = [x1_0, x1_0_dot, y1_0, y1_0_dot,\n",
    "               x2_0, x2_0_dot, y2_0, y2_0_dot]\n",
    "        \n",
    "        solution = solve_ivp(self.dU_dt, (t_pts[0], t_pts[-1]),\n",
    "                             U_0, t_eval = t_pts, atol = 1.0e-7,\n",
    "                             rtol = 1.0e-7)\n",
    "        \n",
    "        x1, x1_dot, y1, y1_dot, x2, x2_dot, y2, y2_dot \\\n",
    "        = solution.y\n",
    "        print(solution.message, solution.success)\n",
    "        return x1, x1_dot, y1, y1_dot, x2, x2_dot, y2, y2_dot\n",
    "        \n"
   ]
  },
  {
   "cell_type": "markdown",
   "metadata": {},
   "source": [
    "Next, need to define the dynamic variables and constants to use in lagrangian."
   ]
  },
  {
   "cell_type": "code",
   "execution_count": 5,
   "metadata": {},
   "outputs": [],
   "source": [
    "### define dynamic symbols for cartesian coordinates ###\n",
    "# x-coordinate\n",
    "xt_1, xt_2, xt_3 = dynamicsymbols('x_1, x_2, x_3')\n",
    "\n",
    "# y-coordinate\n",
    "yt_1, yt_2, yt_3 = dynamicsymbols('y_1, y_2, y_3')\n",
    "\n",
    "#create derivative of the x-coordinate\n",
    "xt_1_dot = diff(xt_1, t)\n",
    "xt_2_dot = diff(xt_2, t)\n",
    "xt_3_dot = diff(xt_3, t)\n",
    "\n",
    "#create derivative of the y-coordinate\n",
    "yt_1_dot = diff(yt_1, t)\n",
    "yt_2_dot = diff(yt_2, t)\n",
    "yt_3_dot = diff(yt_3, t)\n",
    "\n",
    "### redefine dynamic symbols for substitution later to remove dynamics ###\n",
    "# position\n",
    "x_1, x_2, x_3 = symbols('x_1, x_2, x_3')\n",
    "y_1, y_2, y_3 = symbols('y_1, y_2, y_3')\n",
    "\n",
    "# velocity\n",
    "x_1_dot, x_2_dot, x_3_dot = symbols(r'\\dot{x_1}, \\dot{x_2}, \\dot{x_3}')\n",
    "y_1_dot, y_2_dot, y_3_dot = symbols(r'\\dot{y_1}, \\dot{y_2}, \\dot{y_3}')\n",
    "\n",
    "# acceleration\n",
    "x_1_ddot, x_2_ddot, x_3_ddot = symbols(r'\\ddot{x_1}, \\ddot{x_2}, \\ddot{x_3}')\n",
    "y_1_ddot, y_2_ddot, y_3_ddot = symbols(r'\\ddot{y_1}, \\ddot{y_2}, \\ddot{y_3}')\n",
    "\n",
    "### define constants ###\n",
    "# gravitational Constant\n",
    "G_const = symbols('G', integer=True, positive=True)\n",
    "\n",
    "# masses\n",
    "m1_const = symbols('m_1', integer=True, positive=True)\n",
    "m2_const = symbols('m_2', integer=True, positive=True)\n",
    "m3_const = symbols('m_3', integer=True, positive=True)"
   ]
  },
  {
   "cell_type": "markdown",
   "metadata": {},
   "source": [
    "Now the Potential and Kinetic energies are ready to be set up."
   ]
  },
  {
   "cell_type": "code",
   "execution_count": 7,
   "metadata": {},
   "outputs": [
    {
     "data": {
      "text/latex": [
       "$\\displaystyle \\frac{m_{1} \\left(\\left(\\frac{d}{d t} \\operatorname{x_{1}}{\\left (t \\right )}\\right)^{2} + \\left(\\frac{d}{d t} \\operatorname{y_{1}}{\\left (t \\right )}\\right)^{2}\\right)}{2} + \\frac{m_{2} \\left(\\left(\\frac{d}{d t} \\operatorname{x_{2}}{\\left (t \\right )}\\right)^{2} + \\left(\\frac{d}{d t} \\operatorname{y_{2}}{\\left (t \\right )}\\right)^{2}\\right)}{2}$"
      ],
      "text/plain": [
       "<IPython.core.display.Math object>"
      ]
     },
     "metadata": {},
     "output_type": "display_data"
    },
    {
     "data": {
      "text/latex": [
       "$\\displaystyle - \\frac{G m_{1} m_{2}}{\\left(\\left(\\operatorname{x_{1}}{\\left (t \\right )} - \\operatorname{x_{2}}{\\left (t \\right )}\\right)^{2} + \\left(\\operatorname{y_{1}}{\\left (t \\right )} - \\operatorname{y_{2}}{\\left (t \\right )}\\right)^{2}\\right)^{0.5}}$"
      ],
      "text/plain": [
       "<IPython.core.display.Math object>"
      ]
     },
     "metadata": {},
     "output_type": "display_data"
    }
   ],
   "source": [
    "# set up r^2 in cartesian coordinates\n",
    "r_square = ((xt_1 - xt_2)**2 + (yt_1 - yt_2)**2)\n",
    "\n",
    "# The Potential energy term is:\n",
    "U = -G_const * (m1_const * m2_const)/ (r_square**(1/2))\n",
    "\n",
    "# The Kinetic energy term is:\n",
    "T = (m1_const/2 * (xt_1_dot**2 + yt_1_dot**2) +\\\n",
    "     m2_const/2 * (xt_2_dot**2 + yt_2_dot**2))\n",
    "\n",
    "\n",
    "#debug checker\n",
    "#Displays the kinetic and potential energy\n",
    "display(Math(latex(T)))\n",
    "display(Math(latex(U)))"
   ]
  },
  {
   "cell_type": "markdown",
   "metadata": {},
   "source": [
    "The Energy terms are correct and are now ready to be used in the Lagrangian solver."
   ]
  },
  {
   "cell_type": "code",
   "execution_count": 7,
   "metadata": {},
   "outputs": [],
   "source": [
    "# Use dynamic symbols first\n",
    "q = [xt_1, yt_1, xt_2, yt_2]\n",
    "q_dot = [xt_1_dot, yt_1_dot, xt_2_dot, yt_2_dot]\n",
    "\n",
    "# These will be substituted in after solving lagranges equations.\n",
    "p = [x_1, y_1, x_2, y_2]\n",
    "p_dot = [x_1_dot, y_1_dot, x_2_dot, y_2_dot]\n",
    "p_ddot = [x_1_ddot,  y_1_ddot, x_2_ddot, y_2_ddot]\n",
    "\n",
    "#constants\n",
    "m_1 = 20.\n",
    "m_2 = 20.\n",
    "G = 20.\n",
    "\n",
    "orbit = two_body(q = q, q_dot = q_dot,\n",
    "                 p = p, p_dot = p_dot, p_ddot = p_ddot,\n",
    "                 G = G, m_1 = m_1, m_2 = m_2)"
   ]
  },
  {
   "cell_type": "markdown",
   "metadata": {},
   "source": [
    "The produced Lagrangian of the system:"
   ]
  },
  {
   "cell_type": "code",
   "execution_count": 8,
   "metadata": {},
   "outputs": [
    {
     "data": {
      "text/latex": [
       "$\\displaystyle \\frac{G m_{1} m_{2}}{\\left(\\left(\\operatorname{x_{1}}{\\left (t \\right )} - \\operatorname{x_{2}}{\\left (t \\right )}\\right)^{2} + \\left(\\operatorname{y_{1}}{\\left (t \\right )} - \\operatorname{y_{2}}{\\left (t \\right )}\\right)^{2}\\right)^{0.5}} + \\frac{m_{1} \\left(\\frac{d}{d t} \\operatorname{x_{1}}{\\left (t \\right )}\\right)^{2}}{2} + \\frac{m_{1} \\left(\\frac{d}{d t} \\operatorname{y_{1}}{\\left (t \\right )}\\right)^{2}}{2} + \\frac{m_{2} \\left(\\frac{d}{d t} \\operatorname{x_{2}}{\\left (t \\right )}\\right)^{2}}{2} + \\frac{m_{2} \\left(\\frac{d}{d t} \\operatorname{y_{2}}{\\left (t \\right )}\\right)^{2}}{2}$"
      ],
      "text/plain": [
       "<IPython.core.display.Math object>"
      ]
     },
     "metadata": {},
     "output_type": "display_data"
    }
   ],
   "source": [
    "lagrangian = orbit.Lagrangian(U = U, T = T)\n",
    "display(Math(latex(lagrangian)))"
   ]
  },
  {
   "cell_type": "markdown",
   "metadata": {},
   "source": [
    "The equations of motion can be found to be:"
   ]
  },
  {
   "cell_type": "code",
   "execution_count": 9,
   "metadata": {},
   "outputs": [
    {
     "data": {
      "text/latex": [
       "$\\displaystyle \\left [ \\left [ \\frac{G m_{2} \\left(- x_{1} + x_{2}\\right)}{\\left(\\left(x_{1} - x_{2}\\right)^{2} + \\left(y_{1} - y_{2}\\right)^{2}\\right)^{\\frac{3}{2}}}\\right ], \\quad \\left [ \\frac{G m_{2} \\left(- y_{1} + y_{2}\\right)}{\\left(\\left(x_{1} - x_{2}\\right)^{2} + \\left(y_{1} - y_{2}\\right)^{2}\\right)^{\\frac{3}{2}}}\\right ], \\quad \\left [ \\frac{G m_{1} \\left(x_{1} - x_{2}\\right)}{\\left(\\left(x_{1} - x_{2}\\right)^{2} + \\left(y_{1} - y_{2}\\right)^{2}\\right)^{\\frac{3}{2}}}\\right ], \\quad \\left [ \\frac{G m_{1} \\left(y_{1} - y_{2}\\right)}{\\left(\\left(x_{1} - x_{2}\\right)^{2} + \\left(y_{1} - y_{2}\\right)^{2}\\right)^{\\frac{3}{2}}}\\right ]\\right ]$"
      ],
      "text/plain": [
       "<IPython.core.display.Math object>"
      ]
     },
     "metadata": {},
     "output_type": "display_data"
    }
   ],
   "source": [
    "diffeq = orbit.Lagrange()\n",
    "\n",
    "display(Math(latex(diffeq)))"
   ]
  },
  {
   "cell_type": "markdown",
   "metadata": {},
   "source": [
    "Want to solve the calculated Differential Equations using LeapFrog Method.<br/>\n",
    "The vector created for solving is set up as:<br/>\n",
    "\n",
    "$\\begin{align}\n",
    "  \\mathbf{U} = \\left(\\begin{array}{c} x_1(t) \\\\ \\dot x_1(t) \\\\ y_1(t) \\\\ \\dot y_1(t) \\\\ x_2(t) \\\\ \\dot x_2(t) \\\\ y_2(t) \\\\ \\dot y_2(t)  \\end{array} \\right) \n",
    "  \\qquad\n",
    "  \\frac{d\\mathbf{U}}{dt} \n",
    "       = \\left(\\begin{array}{c} \\dot x_1(t) \\\\ \\ddot x_1(t) \\\\ \\dot y_1(t) \\\\ \\ddot y_1(t) \\\\ \\dot x_2(t) \\\\ \\ddot x_2(t) \\\\ \\dot y_2(t) \\\\ \\ddot y_2(t) \\end{array} \\right) \n",
    "\\end{align}$\n",
    "\n",
    "The leapfrog method evaluates $\\dot r$ at a halfway time step before and after the $r$ evaluation, \n",
    "which is both more accurate and incorporates time reversal: \n",
    "\n",
    "$\\begin{align}\n",
    "   \\dot x_{1,{i+1/2}} &= \\dot x_{1,i} + \\frac{d\\mathbf{U}_i[1]}{dt}  \\Delta t/2 \n",
    "   \\\\\n",
    "   x_{1,i+1} &= x_{1,i} + \\frac{d\\mathbf{U}_i[0]}{dt}  \\Delta t  \\\\\n",
    "   \\dot x_{1,i+1} &= \\dot x_{1,i+1/2} + \\frac{d\\mathbf{U}_{i+1}[1]}{dt}  \\Delta t/2 \n",
    "   \\\\\n",
    "   \\dot y_{1,{i+1/2}} &= \\dot y_{1,i} + \\frac{d\\mathbf{U}_i[3]}{dt}  \\Delta t/2\n",
    "   \\\\\n",
    "   y_{1,i+1} &= y_{1,i} + \\frac{d\\mathbf{U}_i[2]}{dt}  \\Delta t  \\\\\n",
    "   \\dot y_{1,i+1} &= \\dot y_{1,i+1/2} + \\frac{d\\mathbf{U}_{i+1}[3]}{dt}  \\Delta t/2 \n",
    "   \\\\\n",
    "   \\dot x_{2,{i+1/2}} &= \\dot x_{2,i} + \\frac{d\\mathbf{U}_i[5]}{dt}  \\Delta t/2 \n",
    "   \\\\\n",
    "   x_{2,i+1} &= x_{2,i} + \\frac{d\\mathbf{U}_i[4]}{dt}  \\Delta t  \\\\\n",
    "   \\dot x_{2,i+1} &= \\dot x_{2,i+1/2} + \\frac{d\\mathbf{U}_{i+1}[5]}{dt}  \\Delta t/2 \n",
    "   \\\\\n",
    "   \\dot y_{2,{i+1/2}} &= \\dot y_{2,i} + \\frac{d\\mathbf{U}_i[7]}{dt}  \\Delta t/2 \n",
    "   \\\\\n",
    "   y_{2,i+1} &= y_{2,i} + \\frac{d\\mathbf{U}_i[6]}{dt}  \\Delta t  \\\\\n",
    "   \\dot y_{2,i+1} &= \\dot y_{2,i+1/2} + \\frac{d\\mathbf{U}_{i+1}[7]}{dt} \n",
    "\\end{align}$"
   ]
  },
  {
   "cell_type": "code",
   "execution_count": 10,
   "metadata": {},
   "outputs": [],
   "source": [
    "orbit.conversion();\n"
   ]
  },
  {
   "cell_type": "markdown",
   "metadata": {},
   "source": [
    "The two-body system is now ready to be solved. Initialize array of time points."
   ]
  },
  {
   "cell_type": "code",
   "execution_count": 11,
   "metadata": {},
   "outputs": [],
   "source": [
    "t_start = 0.\n",
    "t_stop = 10.\n",
    "delta_t = 0.00001\n",
    "\n",
    "t_pts = arange(t_start, t_stop + delta_t, delta_t)"
   ]
  },
  {
   "cell_type": "markdown",
   "metadata": {},
   "source": [
    "Lets first solve using leapfrog method with center of mass constant."
   ]
  },
  {
   "cell_type": "code",
   "execution_count": 12,
   "metadata": {},
   "outputs": [],
   "source": [
    "#eccentricity\n",
    "e = .9\n",
    "\n",
    "### The initial conditions ###\n",
    "# body 1\n",
    "x1_0 = 0.5\n",
    "y1_0 = 0.\n",
    "x1_dot_0 = 0.\n",
    "y1_dot_0 = np.sqrt(G * m_1**2 / ((m_1 + m_2) * x1_0) * (1-e))\n",
    "\n",
    "# body 2\n",
    "x2_0 = -(m_1/m_2) * x1_0\n",
    "x2_dot_0 = -(m_1/m_2) * x1_dot_0\n",
    "y2_0 = -(m_1/m_2) * y1_0\n",
    "y2_dot_0 = -(m_1/m_2) * y1_dot_0"
   ]
  },
  {
   "cell_type": "code",
   "execution_count": 13,
   "metadata": {},
   "outputs": [],
   "source": [
    "x_pos1, y_pos1, x_pos2, y_pos2\\\n",
    "= orbit.solve_ode_Leapfrog(t_pts = t_pts,\n",
    "                           x1_0 = x1_0, x1_0_dot = x1_dot_0,\n",
    "                           y1_0 = y1_0, y1_0_dot = y1_dot_0,\n",
    "                           x2_0 = x2_0, x2_0_dot = x2_dot_0,\n",
    "                           y2_0 = y2_0, y2_0_dot = y2_dot_0)"
   ]
  },
  {
   "cell_type": "markdown",
   "metadata": {},
   "source": [
    "Now its time to plot the motion!"
   ]
  },
  {
   "cell_type": "code",
   "execution_count": 14,
   "metadata": {},
   "outputs": [
    {
     "data": {
      "image/png": "[encoded data removed]",
      "text/plain": [
       "<Figure size 720x720 with 1 Axes>"
      ]
     },
     "metadata": {
      "needs_background": "light"
     },
     "output_type": "display_data"
    }
   ],
   "source": [
    "fig = plt.figure(figsize=(10,10), num='pendulum')\n",
    "ax = fig.add_subplot(1,1,1)\n",
    "\n",
    "ax.plot(x_pos1, y_pos1, linestyle='solid', color = 'blue',\\\n",
    "        label=rf'$Body 1$')\n",
    "\n",
    "ax.plot(x_pos2, y_pos2, linestyle='solid', color = 'magenta',\\\n",
    "        label=rf'$Body 2$')\n",
    "\n",
    "ax.legend(bbox_to_anchor=(1.05, 1), loc=2, borderaxespad=0.)\n",
    "\n",
    "ax.set_xlabel('x')\n",
    "ax.set_ylabel('y')\n",
    "#ax.set_xlim(-2,2)\n",
    "#ax.set_ylim(-2,2)\n",
    "ax.set_aspect(1)\n",
    "\n",
    "fig.tight_layout();"
   ]
  },
  {
   "cell_type": "markdown",
   "metadata": {},
   "source": [
    "Lets check the motion using solve_ivp."
   ]
  },
  {
   "cell_type": "code",
   "execution_count": 15,
   "metadata": {},
   "outputs": [],
   "source": [
    "delta_t_ivp = 0.001\n",
    "t_pts_ivp = np.arange(t_start, t_stop + delta_t_ivp, delta_t_ivp)"
   ]
  },
  {
   "cell_type": "code",
   "execution_count": 16,
   "metadata": {},
   "outputs": [
    {
     "name": "stdout",
     "output_type": "stream",
     "text": [
      "The solver successfully reached the end of the integration interval. True\n"
     ]
    }
   ],
   "source": [
    "x_pos1_ivp, x1pos_dot, y_pos1_ivp, y1pos_dot,\\\n",
    "x_pos2_ivp, x2pos_dot, y_pos2_ivp, y2pos_dot= orbit.ODE_ivp(t_pts = t_pts_ivp,\n",
    "                                                    x1_0 = x1_0, x1_0_dot = x1_dot_0,\n",
    "                                                    y1_0 = y1_0, y1_0_dot = y1_dot_0,\n",
    "                                                    x2_0 = x2_0, x2_0_dot = x2_dot_0,\n",
    "                                                    y2_0 = y2_0, y2_0_dot = y2_dot_0)"
   ]
  },
  {
   "cell_type": "code",
   "execution_count": 17,
   "metadata": {
    "scrolled": false
   },
   "outputs": [
    {
     "data": {
      "image/png": "[encoded data removed]",
      "text/plain": [
       "<Figure size 720x720 with 1 Axes>"
      ]
     },
     "metadata": {
      "needs_background": "light"
     },
     "output_type": "display_data"
    }
   ],
   "source": [
    "fig = plt.figure(figsize=(10,10), num='pendulum')\n",
    "ax = fig.add_subplot(1,1,1)\n",
    "\n",
    "ax.plot(x_pos1_ivp, y_pos1_ivp, linestyle='solid', color = 'blue',\\\n",
    "        label=rf'$Body 1$')\n",
    "\n",
    "ax.plot(x_pos2_ivp, y_pos2_ivp, linestyle='solid', color = 'magenta',\\\n",
    "        label=rf'$Body 2$')\n",
    "\n",
    "#ax.legend('lower_left')\n",
    "ax.legend(bbox_to_anchor=(1.05, 1), loc=2, borderaxespad=0.)\n",
    "\n",
    "ax.set_xlabel('x')\n",
    "ax.set_ylabel('y')\n",
    "ax.set_aspect(1)\n",
    "\n",
    "fig.tight_layout();"
   ]
  },
  {
   "cell_type": "markdown",
   "metadata": {},
   "source": [
    "The motion for the two body system is seen using the same initial condition as the leapfrog method in general shape. Now move to rest frame of the first mass. To get to the rest frame, set one mass as zero then the cartesian position of the second mass is given by:<br/>\n",
    "$ \n",
    "X = (x_2 - x_1)\n",
    "\\\\\n",
    "Y = (y_2 - y_1)\n",
    "$<br/>\n",
    "where body 1 has the heavier mass."
   ]
  },
  {
   "cell_type": "code",
   "execution_count": 18,
   "metadata": {},
   "outputs": [
    {
     "data": {
      "image/png": "[encoded data removed]",
      "text/plain": [
       "<Figure size 720x720 with 1 Axes>"
      ]
     },
     "metadata": {
      "needs_background": "light"
     },
     "output_type": "display_data"
    }
   ],
   "source": [
    "X = (x_pos2 - x_pos1)\n",
    "Y = (y_pos2 - y_pos1)\n",
    "\n",
    "\n",
    "fig = plt.figure(figsize=(10,10), num='pendulum')\n",
    "ax = fig.add_subplot(1,1,1)\n",
    "\n",
    "ax.plot(X, Y, linestyle='solid', color = 'blue',\\\n",
    "        label=rf'$Body 2$')\n",
    "\n",
    "ax.plot(0., 0.,'o', color = 'black',\\\n",
    "        label=rf'$Body 1$')\n",
    "\n",
    "ax.legend(bbox_to_anchor=(1.05, 1), loc=2, borderaxespad=0.)\n",
    "\n",
    "ax.set_xlabel('x')\n",
    "ax.set_ylabel('y')\n",
    "#ax.set_xlim(-20,20)\n",
    "#ax.set_ylim(-20,20)\n",
    "ax.set_aspect(1)\n",
    "\n",
    "fig.tight_layout();"
   ]
  },
  {
   "cell_type": "markdown",
   "metadata": {},
   "source": [
    "The motion of the leapfrog can now be animated."
   ]
  },
  {
   "cell_type": "code",
   "execution_count": 19,
   "metadata": {},
   "outputs": [],
   "source": [
    "%%capture\n",
    "        \n",
    "fig_anim = plt.figure(figsize=(10,5), num = 'anim')\n",
    "\n",
    "#information for theta vs time animation\n",
    "ax_anim = fig_anim.add_subplot(1,1,1)\n",
    "\n",
    "# lines of body path versus time plot\n",
    "line_anim_angle, = ax_anim.plot(x_pos1, y_pos1, linestyle = 'dotted',\n",
    "                                color = 'blue', lw=2)\n",
    "line_anim_angle2, = ax_anim.plot(x_pos2, y_pos2, linestyle = 'dotted',\n",
    "                                color = 'red', lw=2)\n",
    "\n",
    "# points that trace angle versus time plot\n",
    "pt_anim, = ax_anim.plot(x_pos1[0], y_pos1[0], 'o',\n",
    "                              markersize=8, color='blue')\n",
    "pt_anim2, = ax_anim.plot(x_pos2[0], y_pos2[0], 'o',\n",
    "                               markersize=8, color='red')\n",
    "        \n",
    "#information for animation\n",
    "ax_anim.set_aspect(1)\n",
    "ax_anim.axis('off')\n",
    "\n",
    "fig_anim.tight_layout()\n",
    "        "
   ]
  },
  {
   "cell_type": "code",
   "execution_count": 20,
   "metadata": {},
   "outputs": [],
   "source": [
    "def animate(i):\n",
    "    \"\"\"\n",
    "    This is the function called by FuncAnimation to create each frame,\n",
    "    numbered by i.  So each i corresponds to a point in the t_pts\n",
    "    array, with index i.\n",
    "    \"\"\"\n",
    "    i_skip = 100 * i\n",
    "    \n",
    "    #info for first body\n",
    "    pt1_x = x_pos1[i_skip]\n",
    "    pt1_y = y_pos1[i_skip]\n",
    "    \n",
    "    #info for second body\n",
    "    pt2_x = x_pos2[i_skip]\n",
    "    pt2_y = y_pos2[i_skip]\n",
    "    \n",
    "    #updates the position of each body\n",
    "    pt_anim.set_data(pt1_x, pt1_y)\n",
    "    pt_anim2.set_data(pt2_x, pt2_y)\n",
    "        \n",
    "    return(pt_anim, pt_anim2)"
   ]
  },
  {
   "cell_type": "code",
   "execution_count": 21,
   "metadata": {},
   "outputs": [],
   "source": [
    "frame_interval = 60.  # time between frames\n",
    "frame_number = int(len(t_pts)/100) # number of frames to include (index of t_pts)\n",
    "anim = animation.FuncAnimation(fig_anim, \n",
    "                               animate, \n",
    "                               init_func=None,\n",
    "                               frames=frame_number, \n",
    "                               interval=frame_interval, \n",
    "                               blit=True,\n",
    "                               repeat=False)"
   ]
  },
  {
   "cell_type": "code",
   "execution_count": 22,
   "metadata": {},
   "outputs": [
    {
     "ename": "KeyboardInterrupt",
     "evalue": "",
     "output_type": "error",
     "traceback": [
      "\u001b[1;31m---------------------------------------------------------------------------\u001b[0m",
      "\u001b[1;31mKeyboardInterrupt\u001b[0m                         Traceback (most recent call last)",
      "\u001b[1;32m<ipython-input-22-7fda24cb2554>\u001b[0m in \u001b[0;36m<module>\u001b[1;34m\u001b[0m\n\u001b[0;32m      1\u001b[0m \u001b[0mplt\u001b[0m\u001b[1;33m.\u001b[0m\u001b[0mrcParams\u001b[0m\u001b[1;33m[\u001b[0m\u001b[1;34m'animation.embed_limit'\u001b[0m\u001b[1;33m]\u001b[0m \u001b[1;33m=\u001b[0m \u001b[1;36m90.\u001b[0m\u001b[1;33m\u001b[0m\u001b[1;33m\u001b[0m\u001b[0m\n\u001b[1;32m----> 2\u001b[1;33m \u001b[0mHTML\u001b[0m\u001b[1;33m(\u001b[0m\u001b[0manim\u001b[0m\u001b[1;33m.\u001b[0m\u001b[0mto_jshtml\u001b[0m\u001b[1;33m(\u001b[0m\u001b[1;33m)\u001b[0m\u001b[1;33m)\u001b[0m\u001b[1;33m\u001b[0m\u001b[1;33m\u001b[0m\u001b[0m\n\u001b[0m",
      "\u001b[1;32mC:\\ProgramData\\Anaconda3\\lib\\site-packages\\matplotlib\\animation.py\u001b[0m in \u001b[0;36mto_jshtml\u001b[1;34m(self, fps, embed_frames, default_mode)\u001b[0m\n\u001b[0;32m   1391\u001b[0m                                     \u001b[0membed_frames\u001b[0m\u001b[1;33m=\u001b[0m\u001b[0membed_frames\u001b[0m\u001b[1;33m,\u001b[0m\u001b[1;33m\u001b[0m\u001b[1;33m\u001b[0m\u001b[0m\n\u001b[0;32m   1392\u001b[0m                                     default_mode=default_mode)\n\u001b[1;32m-> 1393\u001b[1;33m                 \u001b[0mself\u001b[0m\u001b[1;33m.\u001b[0m\u001b[0msave\u001b[0m\u001b[1;33m(\u001b[0m\u001b[0mstr\u001b[0m\u001b[1;33m(\u001b[0m\u001b[0mpath\u001b[0m\u001b[1;33m)\u001b[0m\u001b[1;33m,\u001b[0m \u001b[0mwriter\u001b[0m\u001b[1;33m=\u001b[0m\u001b[0mwriter\u001b[0m\u001b[1;33m)\u001b[0m\u001b[1;33m\u001b[0m\u001b[1;33m\u001b[0m\u001b[0m\n\u001b[0m\u001b[0;32m   1394\u001b[0m                 \u001b[0mself\u001b[0m\u001b[1;33m.\u001b[0m\u001b[0m_html_representation\u001b[0m \u001b[1;33m=\u001b[0m \u001b[0mpath\u001b[0m\u001b[1;33m.\u001b[0m\u001b[0mread_text\u001b[0m\u001b[1;33m(\u001b[0m\u001b[1;33m)\u001b[0m\u001b[1;33m\u001b[0m\u001b[1;33m\u001b[0m\u001b[0m\n\u001b[0;32m   1395\u001b[0m \u001b[1;33m\u001b[0m\u001b[0m\n",
      "\u001b[1;32mC:\\ProgramData\\Anaconda3\\lib\\site-packages\\matplotlib\\animation.py\u001b[0m in \u001b[0;36msave\u001b[1;34m(self, filename, writer, fps, dpi, codec, bitrate, extra_args, metadata, extra_anim, savefig_kwargs)\u001b[0m\n\u001b[0;32m   1172\u001b[0m                         \u001b[1;31m# TODO: See if turning off blit is really necessary\u001b[0m\u001b[1;33m\u001b[0m\u001b[1;33m\u001b[0m\u001b[1;33m\u001b[0m\u001b[0m\n\u001b[0;32m   1173\u001b[0m                         \u001b[0manim\u001b[0m\u001b[1;33m.\u001b[0m\u001b[0m_draw_next_frame\u001b[0m\u001b[1;33m(\u001b[0m\u001b[0md\u001b[0m\u001b[1;33m,\u001b[0m \u001b[0mblit\u001b[0m\u001b[1;33m=\u001b[0m\u001b[1;32mFalse\u001b[0m\u001b[1;33m)\u001b[0m\u001b[1;33m\u001b[0m\u001b[1;33m\u001b[0m\u001b[0m\n\u001b[1;32m-> 1174\u001b[1;33m                     \u001b[0mwriter\u001b[0m\u001b[1;33m.\u001b[0m\u001b[0mgrab_frame\u001b[0m\u001b[1;33m(\u001b[0m\u001b[1;33m**\u001b[0m\u001b[0msavefig_kwargs\u001b[0m\u001b[1;33m)\u001b[0m\u001b[1;33m\u001b[0m\u001b[1;33m\u001b[0m\u001b[0m\n\u001b[0m\u001b[0;32m   1175\u001b[0m \u001b[1;33m\u001b[0m\u001b[0m\n\u001b[0;32m   1176\u001b[0m         \u001b[1;31m# Reconnect signal for first draw if necessary\u001b[0m\u001b[1;33m\u001b[0m\u001b[1;33m\u001b[0m\u001b[1;33m\u001b[0m\u001b[0m\n",
      "\u001b[1;32mC:\\ProgramData\\Anaconda3\\lib\\site-packages\\matplotlib\\animation.py\u001b[0m in \u001b[0;36mgrab_frame\u001b[1;34m(self, **savefig_kwargs)\u001b[0m\n\u001b[0;32m    879\u001b[0m             \u001b[0mf\u001b[0m \u001b[1;33m=\u001b[0m \u001b[0mBytesIO\u001b[0m\u001b[1;33m(\u001b[0m\u001b[1;33m)\u001b[0m\u001b[1;33m\u001b[0m\u001b[1;33m\u001b[0m\u001b[0m\n\u001b[0;32m    880\u001b[0m             self.fig.savefig(f, format=self.frame_format,\n\u001b[1;32m--> 881\u001b[1;33m                              dpi=self.dpi, **savefig_kwargs)\n\u001b[0m\u001b[0;32m    882\u001b[0m             \u001b[0mimgdata64\u001b[0m \u001b[1;33m=\u001b[0m \u001b[0mbase64\u001b[0m\u001b[1;33m.\u001b[0m\u001b[0mencodebytes\u001b[0m\u001b[1;33m(\u001b[0m\u001b[0mf\u001b[0m\u001b[1;33m.\u001b[0m\u001b[0mgetvalue\u001b[0m\u001b[1;33m(\u001b[0m\u001b[1;33m)\u001b[0m\u001b[1;33m)\u001b[0m\u001b[1;33m.\u001b[0m\u001b[0mdecode\u001b[0m\u001b[1;33m(\u001b[0m\u001b[1;34m'ascii'\u001b[0m\u001b[1;33m)\u001b[0m\u001b[1;33m\u001b[0m\u001b[1;33m\u001b[0m\u001b[0m\n\u001b[0;32m    883\u001b[0m             \u001b[0mself\u001b[0m\u001b[1;33m.\u001b[0m\u001b[0m_total_bytes\u001b[0m \u001b[1;33m+=\u001b[0m \u001b[0mlen\u001b[0m\u001b[1;33m(\u001b[0m\u001b[0mimgdata64\u001b[0m\u001b[1;33m)\u001b[0m\u001b[1;33m\u001b[0m\u001b[1;33m\u001b[0m\u001b[0m\n",
      "\u001b[1;32mC:\\ProgramData\\Anaconda3\\lib\\site-packages\\matplotlib\\figure.py\u001b[0m in \u001b[0;36msavefig\u001b[1;34m(self, fname, frameon, transparent, **kwargs)\u001b[0m\n\u001b[0;32m   2092\u001b[0m             \u001b[0mself\u001b[0m\u001b[1;33m.\u001b[0m\u001b[0mset_frameon\u001b[0m\u001b[1;33m(\u001b[0m\u001b[0mframeon\u001b[0m\u001b[1;33m)\u001b[0m\u001b[1;33m\u001b[0m\u001b[1;33m\u001b[0m\u001b[0m\n\u001b[0;32m   2093\u001b[0m \u001b[1;33m\u001b[0m\u001b[0m\n\u001b[1;32m-> 2094\u001b[1;33m         \u001b[0mself\u001b[0m\u001b[1;33m.\u001b[0m\u001b[0mcanvas\u001b[0m\u001b[1;33m.\u001b[0m\u001b[0mprint_figure\u001b[0m\u001b[1;33m(\u001b[0m\u001b[0mfname\u001b[0m\u001b[1;33m,\u001b[0m \u001b[1;33m**\u001b[0m\u001b[0mkwargs\u001b[0m\u001b[1;33m)\u001b[0m\u001b[1;33m\u001b[0m\u001b[1;33m\u001b[0m\u001b[0m\n\u001b[0m\u001b[0;32m   2095\u001b[0m \u001b[1;33m\u001b[0m\u001b[0m\n\u001b[0;32m   2096\u001b[0m         \u001b[1;32mif\u001b[0m \u001b[0mframeon\u001b[0m\u001b[1;33m:\u001b[0m\u001b[1;33m\u001b[0m\u001b[1;33m\u001b[0m\u001b[0m\n",
      "\u001b[1;32mC:\\ProgramData\\Anaconda3\\lib\\site-packages\\matplotlib\\backend_bases.py\u001b[0m in \u001b[0;36mprint_figure\u001b[1;34m(self, filename, dpi, facecolor, edgecolor, orientation, format, bbox_inches, **kwargs)\u001b[0m\n\u001b[0;32m   2073\u001b[0m                     \u001b[0morientation\u001b[0m\u001b[1;33m=\u001b[0m\u001b[0morientation\u001b[0m\u001b[1;33m,\u001b[0m\u001b[1;33m\u001b[0m\u001b[1;33m\u001b[0m\u001b[0m\n\u001b[0;32m   2074\u001b[0m                     \u001b[0mbbox_inches_restore\u001b[0m\u001b[1;33m=\u001b[0m\u001b[0m_bbox_inches_restore\u001b[0m\u001b[1;33m,\u001b[0m\u001b[1;33m\u001b[0m\u001b[1;33m\u001b[0m\u001b[0m\n\u001b[1;32m-> 2075\u001b[1;33m                     **kwargs)\n\u001b[0m\u001b[0;32m   2076\u001b[0m             \u001b[1;32mfinally\u001b[0m\u001b[1;33m:\u001b[0m\u001b[1;33m\u001b[0m\u001b[1;33m\u001b[0m\u001b[0m\n\u001b[0;32m   2077\u001b[0m                 \u001b[1;32mif\u001b[0m \u001b[0mbbox_inches\u001b[0m \u001b[1;32mand\u001b[0m \u001b[0mrestore_bbox\u001b[0m\u001b[1;33m:\u001b[0m\u001b[1;33m\u001b[0m\u001b[1;33m\u001b[0m\u001b[0m\n",
      "\u001b[1;32mC:\\ProgramData\\Anaconda3\\lib\\site-packages\\matplotlib\\backends\\backend_agg.py\u001b[0m in \u001b[0;36mprint_png\u001b[1;34m(self, filename_or_obj, *args, **kwargs)\u001b[0m\n\u001b[0;32m    508\u001b[0m \u001b[1;33m\u001b[0m\u001b[0m\n\u001b[0;32m    509\u001b[0m         \"\"\"\n\u001b[1;32m--> 510\u001b[1;33m         \u001b[0mFigureCanvasAgg\u001b[0m\u001b[1;33m.\u001b[0m\u001b[0mdraw\u001b[0m\u001b[1;33m(\u001b[0m\u001b[0mself\u001b[0m\u001b[1;33m)\u001b[0m\u001b[1;33m\u001b[0m\u001b[1;33m\u001b[0m\u001b[0m\n\u001b[0m\u001b[0;32m    511\u001b[0m         \u001b[0mrenderer\u001b[0m \u001b[1;33m=\u001b[0m \u001b[0mself\u001b[0m\u001b[1;33m.\u001b[0m\u001b[0mget_renderer\u001b[0m\u001b[1;33m(\u001b[0m\u001b[1;33m)\u001b[0m\u001b[1;33m\u001b[0m\u001b[1;33m\u001b[0m\u001b[0m\n\u001b[0;32m    512\u001b[0m \u001b[1;33m\u001b[0m\u001b[0m\n",
      "\u001b[1;32mC:\\ProgramData\\Anaconda3\\lib\\site-packages\\matplotlib\\backends\\backend_agg.py\u001b[0m in \u001b[0;36mdraw\u001b[1;34m(self)\u001b[0m\n\u001b[0;32m    400\u001b[0m         \u001b[0mtoolbar\u001b[0m \u001b[1;33m=\u001b[0m \u001b[0mself\u001b[0m\u001b[1;33m.\u001b[0m\u001b[0mtoolbar\u001b[0m\u001b[1;33m\u001b[0m\u001b[1;33m\u001b[0m\u001b[0m\n\u001b[0;32m    401\u001b[0m         \u001b[1;32mtry\u001b[0m\u001b[1;33m:\u001b[0m\u001b[1;33m\u001b[0m\u001b[1;33m\u001b[0m\u001b[0m\n\u001b[1;32m--> 402\u001b[1;33m             \u001b[0mself\u001b[0m\u001b[1;33m.\u001b[0m\u001b[0mfigure\u001b[0m\u001b[1;33m.\u001b[0m\u001b[0mdraw\u001b[0m\u001b[1;33m(\u001b[0m\u001b[0mself\u001b[0m\u001b[1;33m.\u001b[0m\u001b[0mrenderer\u001b[0m\u001b[1;33m)\u001b[0m\u001b[1;33m\u001b[0m\u001b[1;33m\u001b[0m\u001b[0m\n\u001b[0m\u001b[0;32m    403\u001b[0m             \u001b[1;31m# A GUI class may be need to update a window using this draw, so\u001b[0m\u001b[1;33m\u001b[0m\u001b[1;33m\u001b[0m\u001b[1;33m\u001b[0m\u001b[0m\n\u001b[0;32m    404\u001b[0m             \u001b[1;31m# don't forget to call the superclass.\u001b[0m\u001b[1;33m\u001b[0m\u001b[1;33m\u001b[0m\u001b[1;33m\u001b[0m\u001b[0m\n",
      "\u001b[1;32mC:\\ProgramData\\Anaconda3\\lib\\site-packages\\matplotlib\\artist.py\u001b[0m in \u001b[0;36mdraw_wrapper\u001b[1;34m(artist, renderer, *args, **kwargs)\u001b[0m\n\u001b[0;32m     48\u001b[0m                 \u001b[0mrenderer\u001b[0m\u001b[1;33m.\u001b[0m\u001b[0mstart_filter\u001b[0m\u001b[1;33m(\u001b[0m\u001b[1;33m)\u001b[0m\u001b[1;33m\u001b[0m\u001b[1;33m\u001b[0m\u001b[0m\n\u001b[0;32m     49\u001b[0m \u001b[1;33m\u001b[0m\u001b[0m\n\u001b[1;32m---> 50\u001b[1;33m             \u001b[1;32mreturn\u001b[0m \u001b[0mdraw\u001b[0m\u001b[1;33m(\u001b[0m\u001b[0martist\u001b[0m\u001b[1;33m,\u001b[0m \u001b[0mrenderer\u001b[0m\u001b[1;33m,\u001b[0m \u001b[1;33m*\u001b[0m\u001b[0margs\u001b[0m\u001b[1;33m,\u001b[0m \u001b[1;33m**\u001b[0m\u001b[0mkwargs\u001b[0m\u001b[1;33m)\u001b[0m\u001b[1;33m\u001b[0m\u001b[1;33m\u001b[0m\u001b[0m\n\u001b[0m\u001b[0;32m     51\u001b[0m         \u001b[1;32mfinally\u001b[0m\u001b[1;33m:\u001b[0m\u001b[1;33m\u001b[0m\u001b[1;33m\u001b[0m\u001b[0m\n\u001b[0;32m     52\u001b[0m             \u001b[1;32mif\u001b[0m \u001b[0martist\u001b[0m\u001b[1;33m.\u001b[0m\u001b[0mget_agg_filter\u001b[0m\u001b[1;33m(\u001b[0m\u001b[1;33m)\u001b[0m \u001b[1;32mis\u001b[0m \u001b[1;32mnot\u001b[0m \u001b[1;32mNone\u001b[0m\u001b[1;33m:\u001b[0m\u001b[1;33m\u001b[0m\u001b[1;33m\u001b[0m\u001b[0m\n",
      "\u001b[1;32mC:\\ProgramData\\Anaconda3\\lib\\site-packages\\matplotlib\\figure.py\u001b[0m in \u001b[0;36mdraw\u001b[1;34m(self, renderer)\u001b[0m\n\u001b[0;32m   1647\u001b[0m \u001b[1;33m\u001b[0m\u001b[0m\n\u001b[0;32m   1648\u001b[0m             mimage._draw_list_compositing_images(\n\u001b[1;32m-> 1649\u001b[1;33m                 renderer, self, artists, self.suppressComposite)\n\u001b[0m\u001b[0;32m   1650\u001b[0m \u001b[1;33m\u001b[0m\u001b[0m\n\u001b[0;32m   1651\u001b[0m             \u001b[0mrenderer\u001b[0m\u001b[1;33m.\u001b[0m\u001b[0mclose_group\u001b[0m\u001b[1;33m(\u001b[0m\u001b[1;34m'figure'\u001b[0m\u001b[1;33m)\u001b[0m\u001b[1;33m\u001b[0m\u001b[1;33m\u001b[0m\u001b[0m\n",
      "\u001b[1;32mC:\\ProgramData\\Anaconda3\\lib\\site-packages\\matplotlib\\image.py\u001b[0m in \u001b[0;36m_draw_list_compositing_images\u001b[1;34m(renderer, parent, artists, suppress_composite)\u001b[0m\n\u001b[0;32m    136\u001b[0m     \u001b[1;32mif\u001b[0m \u001b[0mnot_composite\u001b[0m \u001b[1;32mor\u001b[0m \u001b[1;32mnot\u001b[0m \u001b[0mhas_images\u001b[0m\u001b[1;33m:\u001b[0m\u001b[1;33m\u001b[0m\u001b[1;33m\u001b[0m\u001b[0m\n\u001b[0;32m    137\u001b[0m         \u001b[1;32mfor\u001b[0m \u001b[0ma\u001b[0m \u001b[1;32min\u001b[0m \u001b[0martists\u001b[0m\u001b[1;33m:\u001b[0m\u001b[1;33m\u001b[0m\u001b[1;33m\u001b[0m\u001b[0m\n\u001b[1;32m--> 138\u001b[1;33m             \u001b[0ma\u001b[0m\u001b[1;33m.\u001b[0m\u001b[0mdraw\u001b[0m\u001b[1;33m(\u001b[0m\u001b[0mrenderer\u001b[0m\u001b[1;33m)\u001b[0m\u001b[1;33m\u001b[0m\u001b[1;33m\u001b[0m\u001b[0m\n\u001b[0m\u001b[0;32m    139\u001b[0m     \u001b[1;32melse\u001b[0m\u001b[1;33m:\u001b[0m\u001b[1;33m\u001b[0m\u001b[1;33m\u001b[0m\u001b[0m\n\u001b[0;32m    140\u001b[0m         \u001b[1;31m# Composite any adjacent images together\u001b[0m\u001b[1;33m\u001b[0m\u001b[1;33m\u001b[0m\u001b[1;33m\u001b[0m\u001b[0m\n",
      "\u001b[1;32mC:\\ProgramData\\Anaconda3\\lib\\site-packages\\matplotlib\\artist.py\u001b[0m in \u001b[0;36mdraw_wrapper\u001b[1;34m(artist, renderer, *args, **kwargs)\u001b[0m\n\u001b[0;32m     48\u001b[0m                 \u001b[0mrenderer\u001b[0m\u001b[1;33m.\u001b[0m\u001b[0mstart_filter\u001b[0m\u001b[1;33m(\u001b[0m\u001b[1;33m)\u001b[0m\u001b[1;33m\u001b[0m\u001b[1;33m\u001b[0m\u001b[0m\n\u001b[0;32m     49\u001b[0m \u001b[1;33m\u001b[0m\u001b[0m\n\u001b[1;32m---> 50\u001b[1;33m             \u001b[1;32mreturn\u001b[0m \u001b[0mdraw\u001b[0m\u001b[1;33m(\u001b[0m\u001b[0martist\u001b[0m\u001b[1;33m,\u001b[0m \u001b[0mrenderer\u001b[0m\u001b[1;33m,\u001b[0m \u001b[1;33m*\u001b[0m\u001b[0margs\u001b[0m\u001b[1;33m,\u001b[0m \u001b[1;33m**\u001b[0m\u001b[0mkwargs\u001b[0m\u001b[1;33m)\u001b[0m\u001b[1;33m\u001b[0m\u001b[1;33m\u001b[0m\u001b[0m\n\u001b[0m\u001b[0;32m     51\u001b[0m         \u001b[1;32mfinally\u001b[0m\u001b[1;33m:\u001b[0m\u001b[1;33m\u001b[0m\u001b[1;33m\u001b[0m\u001b[0m\n\u001b[0;32m     52\u001b[0m             \u001b[1;32mif\u001b[0m \u001b[0martist\u001b[0m\u001b[1;33m.\u001b[0m\u001b[0mget_agg_filter\u001b[0m\u001b[1;33m(\u001b[0m\u001b[1;33m)\u001b[0m \u001b[1;32mis\u001b[0m \u001b[1;32mnot\u001b[0m \u001b[1;32mNone\u001b[0m\u001b[1;33m:\u001b[0m\u001b[1;33m\u001b[0m\u001b[1;33m\u001b[0m\u001b[0m\n",
      "\u001b[1;32mC:\\ProgramData\\Anaconda3\\lib\\site-packages\\matplotlib\\axes\\_base.py\u001b[0m in \u001b[0;36mdraw\u001b[1;34m(self, renderer, inframe)\u001b[0m\n\u001b[0;32m   2626\u001b[0m             \u001b[0mrenderer\u001b[0m\u001b[1;33m.\u001b[0m\u001b[0mstop_rasterizing\u001b[0m\u001b[1;33m(\u001b[0m\u001b[1;33m)\u001b[0m\u001b[1;33m\u001b[0m\u001b[1;33m\u001b[0m\u001b[0m\n\u001b[0;32m   2627\u001b[0m \u001b[1;33m\u001b[0m\u001b[0m\n\u001b[1;32m-> 2628\u001b[1;33m         \u001b[0mmimage\u001b[0m\u001b[1;33m.\u001b[0m\u001b[0m_draw_list_compositing_images\u001b[0m\u001b[1;33m(\u001b[0m\u001b[0mrenderer\u001b[0m\u001b[1;33m,\u001b[0m \u001b[0mself\u001b[0m\u001b[1;33m,\u001b[0m \u001b[0martists\u001b[0m\u001b[1;33m)\u001b[0m\u001b[1;33m\u001b[0m\u001b[1;33m\u001b[0m\u001b[0m\n\u001b[0m\u001b[0;32m   2629\u001b[0m \u001b[1;33m\u001b[0m\u001b[0m\n\u001b[0;32m   2630\u001b[0m         \u001b[0mrenderer\u001b[0m\u001b[1;33m.\u001b[0m\u001b[0mclose_group\u001b[0m\u001b[1;33m(\u001b[0m\u001b[1;34m'axes'\u001b[0m\u001b[1;33m)\u001b[0m\u001b[1;33m\u001b[0m\u001b[1;33m\u001b[0m\u001b[0m\n",
      "\u001b[1;32mC:\\ProgramData\\Anaconda3\\lib\\site-packages\\matplotlib\\image.py\u001b[0m in \u001b[0;36m_draw_list_compositing_images\u001b[1;34m(renderer, parent, artists, suppress_composite)\u001b[0m\n\u001b[0;32m    136\u001b[0m     \u001b[1;32mif\u001b[0m \u001b[0mnot_composite\u001b[0m \u001b[1;32mor\u001b[0m \u001b[1;32mnot\u001b[0m \u001b[0mhas_images\u001b[0m\u001b[1;33m:\u001b[0m\u001b[1;33m\u001b[0m\u001b[1;33m\u001b[0m\u001b[0m\n\u001b[0;32m    137\u001b[0m         \u001b[1;32mfor\u001b[0m \u001b[0ma\u001b[0m \u001b[1;32min\u001b[0m \u001b[0martists\u001b[0m\u001b[1;33m:\u001b[0m\u001b[1;33m\u001b[0m\u001b[1;33m\u001b[0m\u001b[0m\n\u001b[1;32m--> 138\u001b[1;33m             \u001b[0ma\u001b[0m\u001b[1;33m.\u001b[0m\u001b[0mdraw\u001b[0m\u001b[1;33m(\u001b[0m\u001b[0mrenderer\u001b[0m\u001b[1;33m)\u001b[0m\u001b[1;33m\u001b[0m\u001b[1;33m\u001b[0m\u001b[0m\n\u001b[0m\u001b[0;32m    139\u001b[0m     \u001b[1;32melse\u001b[0m\u001b[1;33m:\u001b[0m\u001b[1;33m\u001b[0m\u001b[1;33m\u001b[0m\u001b[0m\n\u001b[0;32m    140\u001b[0m         \u001b[1;31m# Composite any adjacent images together\u001b[0m\u001b[1;33m\u001b[0m\u001b[1;33m\u001b[0m\u001b[1;33m\u001b[0m\u001b[0m\n",
      "\u001b[1;32mC:\\ProgramData\\Anaconda3\\lib\\site-packages\\matplotlib\\artist.py\u001b[0m in \u001b[0;36mdraw_wrapper\u001b[1;34m(artist, renderer, *args, **kwargs)\u001b[0m\n\u001b[0;32m     48\u001b[0m                 \u001b[0mrenderer\u001b[0m\u001b[1;33m.\u001b[0m\u001b[0mstart_filter\u001b[0m\u001b[1;33m(\u001b[0m\u001b[1;33m)\u001b[0m\u001b[1;33m\u001b[0m\u001b[1;33m\u001b[0m\u001b[0m\n\u001b[0;32m     49\u001b[0m \u001b[1;33m\u001b[0m\u001b[0m\n\u001b[1;32m---> 50\u001b[1;33m             \u001b[1;32mreturn\u001b[0m \u001b[0mdraw\u001b[0m\u001b[1;33m(\u001b[0m\u001b[0martist\u001b[0m\u001b[1;33m,\u001b[0m \u001b[0mrenderer\u001b[0m\u001b[1;33m,\u001b[0m \u001b[1;33m*\u001b[0m\u001b[0margs\u001b[0m\u001b[1;33m,\u001b[0m \u001b[1;33m**\u001b[0m\u001b[0mkwargs\u001b[0m\u001b[1;33m)\u001b[0m\u001b[1;33m\u001b[0m\u001b[1;33m\u001b[0m\u001b[0m\n\u001b[0m\u001b[0;32m     51\u001b[0m         \u001b[1;32mfinally\u001b[0m\u001b[1;33m:\u001b[0m\u001b[1;33m\u001b[0m\u001b[1;33m\u001b[0m\u001b[0m\n\u001b[0;32m     52\u001b[0m             \u001b[1;32mif\u001b[0m \u001b[0martist\u001b[0m\u001b[1;33m.\u001b[0m\u001b[0mget_agg_filter\u001b[0m\u001b[1;33m(\u001b[0m\u001b[1;33m)\u001b[0m \u001b[1;32mis\u001b[0m \u001b[1;32mnot\u001b[0m \u001b[1;32mNone\u001b[0m\u001b[1;33m:\u001b[0m\u001b[1;33m\u001b[0m\u001b[1;33m\u001b[0m\u001b[0m\n",
      "\u001b[1;32mC:\\ProgramData\\Anaconda3\\lib\\site-packages\\matplotlib\\lines.py\u001b[0m in \u001b[0;36mdraw\u001b[1;34m(self, renderer)\u001b[0m\n\u001b[0;32m    744\u001b[0m         \u001b[0mrenderer\u001b[0m\u001b[1;33m.\u001b[0m\u001b[0mopen_group\u001b[0m\u001b[1;33m(\u001b[0m\u001b[1;34m'line2d'\u001b[0m\u001b[1;33m,\u001b[0m \u001b[0mself\u001b[0m\u001b[1;33m.\u001b[0m\u001b[0mget_gid\u001b[0m\u001b[1;33m(\u001b[0m\u001b[1;33m)\u001b[0m\u001b[1;33m)\u001b[0m\u001b[1;33m\u001b[0m\u001b[1;33m\u001b[0m\u001b[0m\n\u001b[0;32m    745\u001b[0m         \u001b[1;32mif\u001b[0m \u001b[0mself\u001b[0m\u001b[1;33m.\u001b[0m\u001b[0m_lineStyles\u001b[0m\u001b[1;33m[\u001b[0m\u001b[0mself\u001b[0m\u001b[1;33m.\u001b[0m\u001b[0m_linestyle\u001b[0m\u001b[1;33m]\u001b[0m \u001b[1;33m!=\u001b[0m \u001b[1;34m'_draw_nothing'\u001b[0m\u001b[1;33m:\u001b[0m\u001b[1;33m\u001b[0m\u001b[1;33m\u001b[0m\u001b[0m\n\u001b[1;32m--> 746\u001b[1;33m             tpath, affine = (self._get_transformed_path()\n\u001b[0m\u001b[0;32m    747\u001b[0m                              .get_transformed_path_and_affine())\n\u001b[0;32m    748\u001b[0m             \u001b[1;32mif\u001b[0m \u001b[0mlen\u001b[0m\u001b[1;33m(\u001b[0m\u001b[0mtpath\u001b[0m\u001b[1;33m.\u001b[0m\u001b[0mvertices\u001b[0m\u001b[1;33m)\u001b[0m\u001b[1;33m:\u001b[0m\u001b[1;33m\u001b[0m\u001b[1;33m\u001b[0m\u001b[0m\n",
      "\u001b[1;32mC:\\ProgramData\\Anaconda3\\lib\\site-packages\\matplotlib\\transforms.py\u001b[0m in \u001b[0;36mget_transformed_path_and_affine\u001b[1;34m(self)\u001b[0m\n\u001b[0;32m   2806\u001b[0m         \"\"\"\n\u001b[0;32m   2807\u001b[0m         \u001b[0mself\u001b[0m\u001b[1;33m.\u001b[0m\u001b[0m_revalidate\u001b[0m\u001b[1;33m(\u001b[0m\u001b[1;33m)\u001b[0m\u001b[1;33m\u001b[0m\u001b[1;33m\u001b[0m\u001b[0m\n\u001b[1;32m-> 2808\u001b[1;33m         \u001b[1;32mreturn\u001b[0m \u001b[0mself\u001b[0m\u001b[1;33m.\u001b[0m\u001b[0m_transformed_path\u001b[0m\u001b[1;33m,\u001b[0m \u001b[0mself\u001b[0m\u001b[1;33m.\u001b[0m\u001b[0mget_affine\u001b[0m\u001b[1;33m(\u001b[0m\u001b[1;33m)\u001b[0m\u001b[1;33m\u001b[0m\u001b[1;33m\u001b[0m\u001b[0m\n\u001b[0m\u001b[0;32m   2809\u001b[0m \u001b[1;33m\u001b[0m\u001b[0m\n\u001b[0;32m   2810\u001b[0m     \u001b[1;32mdef\u001b[0m \u001b[0mget_fully_transformed_path\u001b[0m\u001b[1;33m(\u001b[0m\u001b[0mself\u001b[0m\u001b[1;33m)\u001b[0m\u001b[1;33m:\u001b[0m\u001b[1;33m\u001b[0m\u001b[1;33m\u001b[0m\u001b[0m\n",
      "\u001b[1;32mC:\\ProgramData\\Anaconda3\\lib\\site-packages\\matplotlib\\transforms.py\u001b[0m in \u001b[0;36mget_affine\u001b[1;34m(self)\u001b[0m\n\u001b[0;32m   2816\u001b[0m \u001b[1;33m\u001b[0m\u001b[0m\n\u001b[0;32m   2817\u001b[0m     \u001b[1;32mdef\u001b[0m \u001b[0mget_affine\u001b[0m\u001b[1;33m(\u001b[0m\u001b[0mself\u001b[0m\u001b[1;33m)\u001b[0m\u001b[1;33m:\u001b[0m\u001b[1;33m\u001b[0m\u001b[1;33m\u001b[0m\u001b[0m\n\u001b[1;32m-> 2818\u001b[1;33m         \u001b[1;32mreturn\u001b[0m \u001b[0mself\u001b[0m\u001b[1;33m.\u001b[0m\u001b[0m_transform\u001b[0m\u001b[1;33m.\u001b[0m\u001b[0mget_affine\u001b[0m\u001b[1;33m(\u001b[0m\u001b[1;33m)\u001b[0m\u001b[1;33m\u001b[0m\u001b[1;33m\u001b[0m\u001b[0m\n\u001b[0m\u001b[0;32m   2819\u001b[0m \u001b[1;33m\u001b[0m\u001b[0m\n\u001b[0;32m   2820\u001b[0m \u001b[1;33m\u001b[0m\u001b[0m\n",
      "\u001b[1;32mC:\\ProgramData\\Anaconda3\\lib\\site-packages\\matplotlib\\transforms.py\u001b[0m in \u001b[0;36mget_affine\u001b[1;34m(self)\u001b[0m\n\u001b[0;32m   2459\u001b[0m             \u001b[1;32mreturn\u001b[0m \u001b[0mself\u001b[0m\u001b[1;33m.\u001b[0m\u001b[0m_b\u001b[0m\u001b[1;33m.\u001b[0m\u001b[0mget_affine\u001b[0m\u001b[1;33m(\u001b[0m\u001b[1;33m)\u001b[0m\u001b[1;33m\u001b[0m\u001b[1;33m\u001b[0m\u001b[0m\n\u001b[0;32m   2460\u001b[0m         \u001b[1;32melse\u001b[0m\u001b[1;33m:\u001b[0m\u001b[1;33m\u001b[0m\u001b[1;33m\u001b[0m\u001b[0m\n\u001b[1;32m-> 2461\u001b[1;33m             return Affine2D(np.dot(self._b.get_affine().get_matrix(),\n\u001b[0m\u001b[0;32m   2462\u001b[0m                                 self._a.get_affine().get_matrix()))\n\u001b[0;32m   2463\u001b[0m     \u001b[0mget_affine\u001b[0m\u001b[1;33m.\u001b[0m\u001b[0m__doc__\u001b[0m \u001b[1;33m=\u001b[0m \u001b[0mTransform\u001b[0m\u001b[1;33m.\u001b[0m\u001b[0mget_affine\u001b[0m\u001b[1;33m.\u001b[0m\u001b[0m__doc__\u001b[0m\u001b[1;33m\u001b[0m\u001b[1;33m\u001b[0m\u001b[0m\n",
      "\u001b[1;32mC:\\ProgramData\\Anaconda3\\lib\\site-packages\\matplotlib\\transforms.py\u001b[0m in \u001b[0;36mget_affine\u001b[1;34m(self)\u001b[0m\n\u001b[0;32m   2460\u001b[0m         \u001b[1;32melse\u001b[0m\u001b[1;33m:\u001b[0m\u001b[1;33m\u001b[0m\u001b[1;33m\u001b[0m\u001b[0m\n\u001b[0;32m   2461\u001b[0m             return Affine2D(np.dot(self._b.get_affine().get_matrix(),\n\u001b[1;32m-> 2462\u001b[1;33m                                 self._a.get_affine().get_matrix()))\n\u001b[0m\u001b[0;32m   2463\u001b[0m     \u001b[0mget_affine\u001b[0m\u001b[1;33m.\u001b[0m\u001b[0m__doc__\u001b[0m \u001b[1;33m=\u001b[0m \u001b[0mTransform\u001b[0m\u001b[1;33m.\u001b[0m\u001b[0mget_affine\u001b[0m\u001b[1;33m.\u001b[0m\u001b[0m__doc__\u001b[0m\u001b[1;33m\u001b[0m\u001b[1;33m\u001b[0m\u001b[0m\n\u001b[0;32m   2464\u001b[0m \u001b[1;33m\u001b[0m\u001b[0m\n",
      "\u001b[1;31mKeyboardInterrupt\u001b[0m: "
     ]
    }
   ],
   "source": [
    "plt.rcParams['animation.embed_limit'] = 90. \n",
    "HTML(anim.to_jshtml())"
   ]
  },
  {
   "cell_type": "markdown",
   "metadata": {},
   "source": [
    "# The Very Heavy Mass\n",
    "\n",
    "Lets repeat for if one mass is extremely heavy compared to the other.\n",
    "\n",
    "First create new instance of the two_body subclass."
   ]
  },
  {
   "cell_type": "code",
   "execution_count": 48,
   "metadata": {},
   "outputs": [],
   "source": [
    "# Use dynamic symbols first\n",
    "q = [xt_1, yt_1, xt_2, yt_2]\n",
    "q_dot = [xt_1_dot, yt_1_dot, xt_2_dot, yt_2_dot]\n",
    "\n",
    "# These will be substituted in after solving lagranges equations.\n",
    "p = [x_1, y_1, x_2, y_2]\n",
    "p_dot = [x_1_dot, y_1_dot, x_2_dot, y_2_dot]\n",
    "p_ddot = [x_1_ddot,  y_1_ddot, x_2_ddot, y_2_ddot]\n",
    "\n",
    "#constants\n",
    "m_sun = 1. #solar mass units\n",
    "m_earth = m_sun/333000. #solar mass units\n",
    "G_solar = 0.0002959122083 #AU^3 D^-2 (solar mass)^-1\n",
    "\n",
    "heavy_mass = two_body(q = q, q_dot = q_dot,\n",
    "                 p = p, p_dot = p_dot, p_ddot = p_ddot,\n",
    "                 G = G_solar, m_1 = m_earth, m_2 = m_sun)\n",
    "\n",
    "heavy_mass.Lagrangian(U = U, T = T)\n",
    "heavy_mass.Lagrange()\n",
    "heavy_mass.conversion()\n",
    "\n",
    "t_start_solar = 0.\n",
    "t_stop_solar = 500.\n",
    "delta_t = 0.01\n",
    "\n",
    "t_pts_solar = arange(t_start_solar, t_stop_solar + delta_t, delta_t)"
   ]
  },
  {
   "cell_type": "markdown",
   "metadata": {},
   "source": [
    "We'll use Leapfrog for time invariance. Since the system being solved is the earth-sun system, we'll use velocities and positions in the astronomical system of units. The starting point will be the perihelion of earths motion around the sun."
   ]
  },
  {
   "cell_type": "code",
   "execution_count": 49,
   "metadata": {},
   "outputs": [],
   "source": [
    "# eccentricity of Earths orbit\n",
    "e_solar = 0.017\n",
    "\n",
    "### The initial conditions ###\n",
    "# Earth\n",
    "x1_0_solar = .983 #AU\n",
    "y1_0_solar = 0. #AU\n",
    "x1_dot_0_solar = 0.\n",
    "y1_dot_0_solar = np.sqrt(G_solar * m_sun**2 / ((m_earth + m_sun) * x1_0_solar) * (1 - e_solar))\n",
    "\n",
    "# Sun\n",
    "x2_0_solar = -(m_earth/m_sun) * x1_0_solar\n",
    "x2_dot_0_solar = -(m_earth/m_sun) * x1_dot_0_solar\n",
    "y2_0_solar = -(m_earth/m_sun) * y1_0_solar\n",
    "y2_dot_0_solar = -(m_earth/m_sun) * y1_dot_0_solar"
   ]
  },
  {
   "cell_type": "markdown",
   "metadata": {},
   "source": [
    "With the input initial conditions completed, the system can now be solved numerically for the cartesian coordinates of both systems."
   ]
  },
  {
   "cell_type": "code",
   "execution_count": 50,
   "metadata": {},
   "outputs": [],
   "source": [
    "x_solar1, y_solar1, x_solar2, y_solar2\\\n",
    "= heavy_mass.solve_ode_Leapfrog(t_pts = t_pts_solar,\n",
    "                                x1_0 = x1_0_solar, x1_0_dot = x1_dot_0_solar,\n",
    "                                y1_0 = y1_0_solar, y1_0_dot = y1_dot_0_solar,\n",
    "                                x2_0 = x2_0_solar, x2_0_dot = x2_dot_0_solar,\n",
    "                                y2_0 = y2_0_solar, y2_0_dot = y2_dot_0_solar)"
   ]
  },
  {
   "cell_type": "markdown",
   "metadata": {},
   "source": [
    "Since everything ran obviously ran correctly, the motion of the earth-system should be plottable. The "
   ]
  },
  {
   "cell_type": "code",
   "execution_count": 53,
   "metadata": {},
   "outputs": [
    {
     "data": {
      "image/png": "[encoded data removed]",
      "text/plain": [
       "<Figure size 720x720 with 1 Axes>"
      ]
     },
     "metadata": {
      "needs_background": "light"
     },
     "output_type": "display_data"
    }
   ],
   "source": [
    "fig = plt.figure(figsize=(10,10), num='pendulum')\n",
    "ax = fig.add_subplot(1,1,1)\n",
    "\n",
    "ax.plot(x_solar1, y_solar1, linestyle='solid', color = 'blue',\\\n",
    "        label=rf'$Earth$')\n",
    "\n",
    "ax.plot(x_solar2, y_solar2, linestyle='solid', lw = 10, color = 'orange',\\\n",
    "        label=rf'$Sun$')\n",
    "\n",
    "#ax.legend('lower_left')\n",
    "ax.legend(bbox_to_anchor=(1.05, 1), loc=2, borderaxespad=0.)\n",
    "\n",
    "ax.set_xlabel('x')\n",
    "ax.set_ylabel('y')\n",
    "ax.set_aspect(1)\n",
    "\n",
    "fig.tight_layout();"
   ]
  },
  {
   "cell_type": "markdown",
   "metadata": {},
   "source": [
    "The Earths orbit around the sun is relatively circular as expected by the eccentricity. The path of the Sun is hard to see but shows up as the orange dot near the origin.\n",
    "\n",
    "Visually, the Sun is stationary with respect to the motion of the Earth. It doesn't move much as a large mass following that sufficiently large masses may be treated as stationary in two-body problems. \n",
    "\n",
    "To get to the Sun's rest frame, set Sun position as the zero point such that the cartesian position of the Earth in the rest frame of the sun is given by:<br/>\n",
    "$ \n",
    "X = (x_{earth} - x_{Sun})\n",
    "\\\\\n",
    "Y = (y_{earth} - y_{Sun})\n",
    "$<br/>"
   ]
  },
  {
   "cell_type": "code",
   "execution_count": 52,
   "metadata": {},
   "outputs": [
    {
     "data": {
      "image/png": "[encoded data removed]",
      "text/plain": [
       "<Figure size 360x360 with 1 Axes>"
      ]
     },
     "metadata": {
      "needs_background": "light"
     },
     "output_type": "display_data"
    }
   ],
   "source": [
    "X = (x_solar2 - x_solar1)\n",
    "Y = (y_solar2 - y_solar1)\n",
    "\n",
    "\n",
    "fig = plt.figure(figsize=(5,5), num='pendulum')\n",
    "ax = fig.add_subplot(1,1,1)\n",
    "\n",
    "ax.plot(X, Y, linestyle='solid', color = 'blue',\\\n",
    "        label=rf'$Earth$')\n",
    "\n",
    "ax.plot(0., 0.,'o', markersize = 10, color = 'orange',\\\n",
    "        label=rf'$Sun$')\n",
    "\n",
    "ax.legend(bbox_to_anchor=(1.05, 1), loc=2, borderaxespad=0.)\n",
    "\n",
    "ax.set_xlabel('x')\n",
    "ax.set_ylabel('y')\n",
    "#ax.set_xlim(-20,20)\n",
    "#ax.set_ylim(-20,20)\n",
    "ax.set_aspect(1)\n",
    "\n",
    "fig.tight_layout();"
   ]
  },
  {
   "cell_type": "markdown",
   "metadata": {},
   "source": [
    "Visually, the plot looks the same as the previous image except that the Sun is more visible as the plotting parameters allowed for a large dot to be plotted at the origin. The plot similarities show that a system with a large mass behaves as if the large mass is stationary."
   ]
  },
  {
   "cell_type": "code",
   "execution_count": null,
   "metadata": {},
   "outputs": [],
   "source": []
  }
 ],
 "metadata": {
  "kernelspec": {
   "display_name": "Python 3",
   "language": "python",
   "name": "python3"
  },
  "language_info": {
   "codemirror_mode": {
    "name": "ipython",
    "version": 3
   },
   "file_extension": ".py",
   "mimetype": "text/x-python",
   "name": "python",
   "nbconvert_exporter": "python",
   "pygments_lexer": "ipython3",
   "version": "3.7.1"
  }
 },
 "nbformat": 4,
 "nbformat_minor": 2
}
